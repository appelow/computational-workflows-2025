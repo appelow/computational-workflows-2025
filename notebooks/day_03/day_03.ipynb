{
 "cells": [
  {
   "cell_type": "markdown",
   "metadata": {},
   "source": [
    "# Differential expression analysis\n"
   ]
  },
  {
   "cell_type": "markdown",
   "metadata": {},
   "source": [
    "You have run the nf-core/rnaseq pipeline and checked the first quality control metrics of your fastq files. This was, however, only the primary analysis and we want to take it further.\n",
    "\n",
    "Due to the computational demand of the pipeline, you only ran the pipeline on two of the 16 samples in the study yesterday. We provide you an essential output of nf-core/rnaseq pipeline in the `data` folder: It contains the combined epression matrix as produced by Salmon, which provides transcript levels for each gene (rows) and each sample (columns).\n"
   ]
  },
  {
   "cell_type": "markdown",
   "metadata": {},
   "source": [
    "We would now like to understand exactly the difference between the expression in our groups of mice. \n",
    "Which pipeline would you use for this?"
   ]
  },
  {
   "cell_type": "markdown",
   "metadata": {
    "vscode": {
     "languageId": "shellscript"
    }
   },
   "source": [
    "nf-core/differentialabundance"
   ]
  },
  {
   "cell_type": "markdown",
   "metadata": {},
   "source": [
    "Have a close look at the pipeline's \"Usage\" page on the [nf-core docs](nf-co.re). You will need to create a samplesheet (based on the column names in the provided matrix)."
   ]
  },
  {
   "cell_type": "markdown",
   "metadata": {
    "vscode": {
     "languageId": "shellscript"
    }
   },
   "source": [
    "Sham_oxy_1\tSham_oxy_2\tSham_oxy_3\tSham_oxy_4\tSham_Sal_1\tSham_Sal_2\tSham_Sal_3\tSham_Sal_4\tSNI_oxy_1\tSNI_oxy_2\tSNI_oxy_3\tSNI_oxy_4\tSNI_Sal_1\tSNI_Sal_2\tSNI_Sal_3\tSNI_Sal_4"
   ]
  },
  {
   "cell_type": "code",
   "execution_count": null,
   "metadata": {},
   "outputs": [
    {
     "name": "stdout",
     "output_type": "stream",
     "text": [
      "CSV written to samplesheet.csv\n"
     ]
    }
   ],
   "source": [
    "'''\n",
    "import pandas as pd\n",
    "import os\n",
    "import csv \n",
    "\n",
    "path = \"/Users/leoniewehnert/Desktop/computational-workflows-2025/notebooks/day_03/data/rnaseq-out-small/fq_lint/raw\"\n",
    "rows = []\n",
    "\n",
    "for filename in os.listdir(path):\n",
    "    if filename.endswith(\".txt\"):\n",
    "        sample = filename.split(\".\")[0]\n",
    "\n",
    "        # assign condition based on name\n",
    "        if \"Sal\" in sample:\n",
    "            condition = \"Sal\"\n",
    "        elif \"oxy\" in sample:\n",
    "            condition = \"oxy\"\n",
    "        else:\n",
    "            condition = \"unknown\"\n",
    "\n",
    "        rows.append([sample, condition])\n",
    "\n",
    "# write to CSV\n",
    "out_file = \"samplesheet.csv\"\n",
    "with open(out_file, \"w\", newline=\"\") as f:\n",
    "    writer = csv.writer(f)\n",
    "    writer.writerow([\"sample\", \"condition\"])\n",
    "    writer.writerows(rows)\n",
    "\n",
    "print\n",
    "(f\"CSV written to {out_file}\")\n",
    "'''"
   ]
  },
  {
   "cell_type": "code",
   "execution_count": 22,
   "metadata": {},
   "outputs": [
    {
     "data": {
      "text/plain": [
       "'samplesheet_2.csv'"
      ]
     },
     "execution_count": 22,
     "metadata": {},
     "output_type": "execute_result"
    }
   ],
   "source": [
    "import pandas as pd\n",
    "\n",
    "# Define the sample data\n",
    "data = {\n",
    "    \"sample\": [\n",
    "        \"SNI_Sal_rep1\", \"SNI_Sal_rep2\", \"SNI_Sal_rep3\",\n",
    "        \"SNI_oxy_rep1\", \"SNI_oxy_rep2\", \"SNI_oxy_rep3\",\n",
    "        \"Sham_Sal_rep1\", \"Sham_Sal_rep2\", \"Sham_Sal_rep3\",\n",
    "        \"Sham_oxy_rep1\", \"Sham_oxy_rep2\", \"Sham_oxy_rep3\"\n",
    "    ],\n",
    "    \"Condition\": [\n",
    "        \"SNI_Sal\", \"SNI_Sal\", \"SNI_Sal\",\n",
    "        \"SNI_oxy\", \"SNI_oxy\", \"SNI_oxy\",\n",
    "        \"Sham_Sal\", \"Sham_Sal\", \"Sham_Sal\",\n",
    "        \"Sham_oxy\", \"Sham_oxy\", \"Sham_oxy\"\n",
    "    ]\n",
    "}\n",
    "\n",
    "df = pd.DataFrame(data)\n",
    "\n",
    "# Save to CSV\n",
    "out_file = \"samplesheet_2.csv\"\n",
    "df.to_csv(out_file, index=False)\n",
    "\n",
    "out_file\n"
   ]
  },
  {
   "cell_type": "markdown",
   "metadata": {},
   "source": [
    "Please paste here the command you used. You may need to inspect the provided expression matrix more closely and create additional files, like a samplesheet (based on the column names) or a contrast file (there happens to also be one in `data/` that you can use)."
   ]
  },
  {
   "cell_type": "code",
   "execution_count": 37,
   "metadata": {},
   "outputs": [
    {
     "name": "stdout",
     "output_type": "stream",
     "text": [
      "\n",
      "\u001b[1m\u001b[38;5;232m\u001b[48;5;43m N E X T F L O W \u001b[0;2m  ~  \u001b[mversion 25.04.7\u001b[m\n",
      "\u001b[K\n",
      "Launching\u001b[35m `https://github.com/nf-core/differentialabundance` \u001b[0;2m[\u001b[0;1;36mnasty_laplace\u001b[0;2m] DSL2 - \u001b[36mrevision: \u001b[0;36m3dd360fed0 [1.5.0]\u001b[m\n",
      "\u001b[K\n",
      "\u001b[33mWARN: Access to undefined parameter `monochromeLogs` -- Initialise it to a default value eg. `params.monochromeLogs = some_value`\u001b[39m\u001b[K\n",
      "\n",
      "\n",
      "-\u001b[2m----------------------------------------------------\u001b[0m-\n",
      "                                        \u001b[0;32m,--.\u001b[0;30m/\u001b[0;32m,-.\u001b[0m\n",
      "\u001b[0;34m        ___     __   __   __   ___     \u001b[0;32m/,-._.--~'\u001b[0m\n",
      "\u001b[0;34m  |\\ | |__  __ /  ` /  \\ |__) |__         \u001b[0;33m}  {\u001b[0m\n",
      "\u001b[0;34m  | \\| |       \\__, \\__/ |  \\ |___     \u001b[0;32m\\`-._,-`-,\u001b[0m\n",
      "                                        \u001b[0;32m`._,._,'\u001b[0m\n",
      "\u001b[0;35m  nf-core/differentialabundance v1.5.0-g3dd360f\u001b[0m\n",
      "-\u001b[2m----------------------------------------------------\u001b[0m-\n",
      "\u001b[1mCore Nextflow options\u001b[0m\n",
      "  \u001b[0;34mrevision                    : \u001b[0;32m1.5.0\u001b[0m\n",
      "  \u001b[0;34mrunName                     : \u001b[0;32mnasty_laplace\u001b[0m\n",
      "  \u001b[0;34mcontainerEngine             : \u001b[0;32mdocker\u001b[0m\n",
      "  \u001b[0;34mcontainer                   : \u001b[0;32m[RMARKDOWNNOTEBOOK:biocontainers/r-shinyngs:1.8.8--r43hdfd78af_0]\u001b[0m\n",
      "  \u001b[0;34mlaunchDir                   : \u001b[0;32m/Users/leoniewehnert/Desktop/computational-workflows-2025/notebooks/day_03\u001b[0m\n",
      "  \u001b[0;34mworkDir                     : \u001b[0;32m/Users/leoniewehnert/Desktop/computational-workflows-2025/notebooks/day_03/work\u001b[0m\n",
      "  \u001b[0;34mprojectDir                  : \u001b[0;32m/Users/leoniewehnert/.nextflow/assets/nf-core/differentialabundance\u001b[0m\n",
      "  \u001b[0;34muserName                    : \u001b[0;32mleoniewehnert\u001b[0m\n",
      "  \u001b[0;34mprofile                     : \u001b[0;32mdocker,arm\u001b[0m\n",
      "  \u001b[0;34mconfigFiles                 : \u001b[0;32m\u001b[0m\n",
      "\n",
      "\u001b[1mInput/output options\u001b[0m\n",
      "  \u001b[0;34minput                       : \u001b[0;32msamplesheet_2.csv\u001b[0m\n",
      "  \u001b[0;34mcontrasts                   : \u001b[0;32mdata/contrasts.csv\u001b[0m\n",
      "  \u001b[0;34moutdir                      : \u001b[0;32moutput_differential\u001b[0m\n",
      "\n",
      "\u001b[1mAbundance values\u001b[0m\n",
      "  \u001b[0;34mmatrix                      : \u001b[0;32mdata/salmon.merged.gene_counts.tsv\u001b[0m\n",
      "  \u001b[0;34maffy_cel_files_archive      : \u001b[0;32mnull\u001b[0m\n",
      "  \u001b[0;34mquerygse                    : \u001b[0;32mnull\u001b[0m\n",
      "\n",
      "\u001b[1mAffy input options\u001b[0m\n",
      "  \u001b[0;34maffy_cdfname                : \u001b[0;32mnull\u001b[0m\n",
      "\n",
      "\u001b[1mExploratory analysis\u001b[0m\n",
      "  \u001b[0;34mexploratory_log2_assays     : \u001b[0;32mraw,normalised\u001b[0m\n",
      "\n",
      "\u001b[1mLimma specific options (microarray only)\u001b[0m\n",
      "  \u001b[0;34mlimma_spacing               : \u001b[0;32mnull\u001b[0m\n",
      "  \u001b[0;34mlimma_block                 : \u001b[0;32mnull\u001b[0m\n",
      "  \u001b[0;34mlimma_correlation           : \u001b[0;32mnull\u001b[0m\n",
      "\n",
      "\u001b[1mgprofiler2\u001b[0m\n",
      "  \u001b[0;34mgprofiler2_correction_method: \u001b[0;32mgSCS\u001b[0m\n",
      "  \u001b[0;34mgprofiler2_background_file  : \u001b[0;32mauto\u001b[0m\n",
      "\n",
      "\u001b[1mShiny app settings\u001b[0m\n",
      "  \u001b[0;34mshinyngs_shinyapps_account  : \u001b[0;32mnull\u001b[0m\n",
      "  \u001b[0;34mshinyngs_shinyapps_app_name : \u001b[0;32mnull\u001b[0m\n",
      "\n",
      "\u001b[1mOptions related to gene set analysis\u001b[0m\n",
      "  \u001b[0;34mgene_sets_files             : \u001b[0;32mnull\u001b[0m\n",
      "\n",
      "\u001b[1mReporting options\u001b[0m\n",
      "  \u001b[0;34mreport_title                : \u001b[0;32mnull\u001b[0m\n",
      "  \u001b[0;34mreport_author               : \u001b[0;32mnull\u001b[0m\n",
      "  \u001b[0;34mreport_description          : \u001b[0;32mnull\u001b[0m\n",
      "\n",
      "\u001b[1mMax job request options\u001b[0m\n",
      "  \u001b[0;34mmax_memory                  : \u001b[0;32m4.GB\u001b[0m\n",
      "\n",
      "!! Only displaying parameters that differ from the pipeline defaults !!\n",
      "-\u001b[2m----------------------------------------------------\u001b[0m-\n",
      "If you use nf-core/differentialabundance for your analysis please cite:\n",
      "\n",
      "* The pipeline\n",
      "  https://doi.org/10.5281/zenodo.7568000\n",
      "\n",
      "* The nf-core framework\n",
      "  https://doi.org/10.1038/s41587-020-0439-x\n",
      "\n",
      "* Software dependencies\n",
      "  https://github.com/nf-core/differentialabundance/blob/master/CITATIONS.md\n",
      "-\u001b[2m----------------------------------------------------\u001b[0m-\n",
      "\u001b[33mWARN: Access to undefined parameter `gtf` -- Initialise it to a default value eg. `params.gtf = some_value`\u001b[39m\u001b[K\n",
      "\u001b[2m[\u001b[0;34m-        \u001b[0;2m] \u001b[0;2mNFC…RENTIALABUNDANCE:\u001b[mVALIDATOR -\u001b[K\n",
      "\u001b[2m[\u001b[0;34m-        \u001b[0;2m] \u001b[0;2mNFC…NDANCE:\u001b[mCUSTOM_MATRIXFILTER -\u001b[K\n",
      "\u001b[2m[\u001b[0;34m-        \u001b[0;2m] \u001b[0;2mNFC…NTIALABUNDANCE:\u001b[mDESEQ2_NORM -\u001b[K\n",
      "\u001b[2m[\u001b[0;34m-        \u001b[0;2m] \u001b[0;2mNFC…NDANCE:\u001b[mDESEQ2_DIFFERENTIAL -\u001b[K\n",
      "\u001b[2m[\u001b[0;34m-        \u001b[0;2m] \u001b[0;2mNFC…ABUNDANCE:\u001b[mFILTER_DIFFTABLE -\u001b[K\n",
      "\u001b[2m[\u001b[0;34m-        \u001b[0;2m] \u001b[0;2mNFC…ABUNDANCE:\u001b[mPLOT_EXPLORATORY -\u001b[K\n",
      "\u001b[2m[\u001b[0;34m-        \u001b[0;2m] \u001b[0;2mNFC…BUNDANCE:\u001b[mPLOT_DIFFERENTIAL -\u001b[K\n",
      "\u001b[2m[\u001b[0;34m-        \u001b[0;2m] \u001b[0;2mNFC…TIALABUNDANCE:\u001b[mSHINYNGS_APP -\u001b[K\n",
      "\u001b[9A\n",
      "\u001b[2mexecutor >  local (1)\u001b[m\u001b[K\n",
      "\u001b[2m[\u001b[0;34m16/98781a\u001b[0;2m] \u001b[0;2m\u001b[mNFC…IDATOR\u001b[33;2m (\u001b[0;33msamplesheet_2.csv\u001b[2m)\u001b[m\u001b[2m |\u001b[m 0 of 1\u001b[K\n",
      "\u001b[2m[\u001b[0;34m-        \u001b[0;2m] \u001b[0;2mNFC…NDANCE:\u001b[mCUSTOM_MATRIXFILTER -\u001b[K\n",
      "\u001b[2m[\u001b[0;34m-        \u001b[0;2m] \u001b[0;2mNFC…NTIALABUNDANCE:\u001b[mDESEQ2_NORM -\u001b[K\n",
      "\u001b[2m[\u001b[0;34m-        \u001b[0;2m] \u001b[0;2mNFC…NDANCE:\u001b[mDESEQ2_DIFFERENTIAL -\u001b[K\n",
      "\u001b[2m[\u001b[0;34m-        \u001b[0;2m] \u001b[0;2mNFC…ABUNDANCE:\u001b[mFILTER_DIFFTABLE -\u001b[K\n",
      "\u001b[2m[\u001b[0;34m-        \u001b[0;2m] \u001b[0;2mNFC…ABUNDANCE:\u001b[mPLOT_EXPLORATORY -\u001b[K\n",
      "\u001b[2m[\u001b[0;34m-        \u001b[0;2m] \u001b[0;2mNFC…BUNDANCE:\u001b[mPLOT_DIFFERENTIAL -\u001b[K\n",
      "\u001b[2m[\u001b[0;34m-        \u001b[0;2m] \u001b[0;2mNFC…TIALABUNDANCE:\u001b[mSHINYNGS_APP -\u001b[K\n",
      "\u001b[2m[\u001b[0;34m-        \u001b[0;2m] \u001b[0;2mNFC…BUNDANCE:\u001b[mRMARKDOWNNOTEBOOK -\u001b[K\n",
      "\u001b[2m[\u001b[0;34m-        \u001b[0;2m] \u001b[0;2mNFC…UNDANCE:\u001b[mMAKE_REPORT_BUNDLE -\u001b[K\n",
      "\u001b[12A\n",
      "\u001b[2mexecutor >  local (2)\u001b[m\u001b[K\n",
      "\u001b[2m[\u001b[0;34m16/98781a\u001b[0;2m] \u001b[0;2m\u001b[mNFC…IDATOR\u001b[33;2m (\u001b[0;33msamplesheet_2.csv\u001b[2m)\u001b[m\u001b[2m |\u001b[m 1 of 1\u001b[32m ✔\u001b[m\u001b[K\n",
      "\u001b[2m[\u001b[0;34md3/dde9b0\u001b[0;2m] \u001b[0;2m\u001b[mNFC…_MATRIXFILTER\u001b[33;2m (\u001b[0;33m[id:study]\u001b[2m)\u001b[m\u001b[2m |\u001b[m 0 of 1\u001b[K\n",
      "\u001b[2m[\u001b[0;34m-        \u001b[0;2m] \u001b[0;2mNFC…NTIALABUNDANCE:\u001b[mDESEQ2_NORM -\u001b[K\n",
      "\u001b[2m[\u001b[0;34m-        \u001b[0;2m] \u001b[0;2mNFC…NDANCE:\u001b[mDESEQ2_DIFFERENTIAL -\u001b[K\n",
      "\u001b[2m[\u001b[0;34m-        \u001b[0;2m] \u001b[0;2mNFC…ABUNDANCE:\u001b[mFILTER_DIFFTABLE -\u001b[K\n",
      "\u001b[2m[\u001b[0;34m-        \u001b[0;2m] \u001b[0;2mNFC…ABUNDANCE:\u001b[mPLOT_EXPLORATORY -\u001b[K\n",
      "\u001b[2m[\u001b[0;34m-        \u001b[0;2m] \u001b[0;2mNFC…BUNDANCE:\u001b[mPLOT_DIFFERENTIAL -\u001b[K\n",
      "\u001b[2m[\u001b[0;34m-        \u001b[0;2m] \u001b[0;2mNFC…TIALABUNDANCE:\u001b[mSHINYNGS_APP -\u001b[K\n",
      "\u001b[2m[\u001b[0;34m-        \u001b[0;2m] \u001b[0;2mNFC…BUNDANCE:\u001b[mRMARKDOWNNOTEBOOK -\u001b[K\n",
      "\u001b[2m[\u001b[0;34m-        \u001b[0;2m] \u001b[0;2mNFC…UNDANCE:\u001b[mMAKE_REPORT_BUNDLE -\u001b[K\n",
      "\u001b[12A\n",
      "\u001b[2mexecutor >  local (4)\u001b[m\u001b[K\n",
      "\u001b[2m[\u001b[0;34m16/98781a\u001b[0;2m] \u001b[0;2m\u001b[mNFC…IDATOR\u001b[33;2m (\u001b[0;33msamplesheet_2.csv\u001b[2m)\u001b[m\u001b[2m |\u001b[m 1 of 1\u001b[32m ✔\u001b[m\u001b[K\n",
      "\u001b[2m[\u001b[0;34md3/dde9b0\u001b[0;2m] \u001b[0;2m\u001b[mNFC…_MATRIXFILTER\u001b[33;2m (\u001b[0;33m[id:study]\u001b[2m)\u001b[m\u001b[2m |\u001b[m 1 of 1\u001b[32m ✔\u001b[m\u001b[K\n",
      "\u001b[2m[\u001b[0;34m-        \u001b[0;2m] \u001b[0;2mNFC…NTIALABUNDANCE:\u001b[mDESEQ2_NORM\u001b[2m |\u001b[m 0 of 1\u001b[K\n",
      "\u001b[2m[\u001b[0;34m63/f135b4\u001b[0;2m] \u001b[0;2mNFC…rget:Sham_oxy, blocking:\u001b[m])\u001b[2m |\u001b[m 0 of 2\u001b[K\n",
      "\u001b[2m[\u001b[0;34m-        \u001b[0;2m] \u001b[0;2mNFC…ABUNDANCE:\u001b[mFILTER_DIFFTABLE -\u001b[K\n",
      "\u001b[2m[\u001b[0;34m-        \u001b[0;2m] \u001b[0;2mNFC…ABUNDANCE:\u001b[mPLOT_EXPLORATORY -\u001b[K\n",
      "\u001b[2m[\u001b[0;34m-        \u001b[0;2m] \u001b[0;2mNFC…BUNDANCE:\u001b[mPLOT_DIFFERENTIAL -\u001b[K\n",
      "\u001b[2m[\u001b[0;34m-        \u001b[0;2m] \u001b[0;2mNFC…TIALABUNDANCE:\u001b[mSHINYNGS_APP -\u001b[K\n",
      "\u001b[2m[\u001b[0;34m-        \u001b[0;2m] \u001b[0;2mNFC…BUNDANCE:\u001b[mRMARKDOWNNOTEBOOK -\u001b[K\n",
      "\u001b[2m[\u001b[0;34m-        \u001b[0;2m] \u001b[0;2mNFC…UNDANCE:\u001b[mMAKE_REPORT_BUNDLE -\u001b[K\n",
      "\u001b[12A\n",
      "\u001b[2mexecutor >  local (4)\u001b[m\u001b[K\n",
      "\u001b[2m[\u001b[0;34m16/98781a\u001b[0;2m] \u001b[0;2m\u001b[mNFC…IDATOR\u001b[33;2m (\u001b[0;33msamplesheet_2.csv\u001b[2m)\u001b[m\u001b[2m |\u001b[m 1 of 1\u001b[32m ✔\u001b[m\u001b[K\n",
      "\u001b[2m[\u001b[0;34md3/dde9b0\u001b[0;2m] \u001b[0;2m\u001b[mNFC…_MATRIXFILTER\u001b[33;2m (\u001b[0;33m[id:study]\u001b[2m)\u001b[m\u001b[2m |\u001b[m 1 of 1\u001b[32m ✔\u001b[m\u001b[K\n",
      "\u001b[2m[\u001b[0;34m-        \u001b[0;2m] \u001b[0;2mNFC…NTIALABUNDANCE:\u001b[mDESEQ2_NORM\u001b[2m |\u001b[m 0 of 1\u001b[K\n",
      "\u001b[2m[\u001b[0;34m63/f135b4\u001b[0;2m] \u001b[0;2mNFC…rget:Sham_oxy, blocking:\u001b[m])\u001b[2m |\u001b[m 0 of 2\u001b[K\n",
      "\u001b[2m[\u001b[0;34m-        \u001b[0;2m] \u001b[0;2mNFC…ABUNDANCE:\u001b[mFILTER_DIFFTABLE -\u001b[K\n",
      "\u001b[2m[\u001b[0;34m-        \u001b[0;2m] \u001b[0;2mNFC…ABUNDANCE:\u001b[mPLOT_EXPLORATORY -\u001b[K\n",
      "\u001b[2m[\u001b[0;34m-        \u001b[0;2m] \u001b[0;2mNFC…BUNDANCE:\u001b[mPLOT_DIFFERENTIAL -\u001b[K\n",
      "\u001b[2m[\u001b[0;34m-        \u001b[0;2m] \u001b[0;2mNFC…TIALABUNDANCE:\u001b[mSHINYNGS_APP -\u001b[K\n",
      "\u001b[2m[\u001b[0;34m-        \u001b[0;2m] \u001b[0;2mNFC…BUNDANCE:\u001b[mRMARKDOWNNOTEBOOK -\u001b[K\n",
      "\u001b[2m[\u001b[0;34m-        \u001b[0;2m] \u001b[0;2mNFC…UNDANCE:\u001b[mMAKE_REPORT_BUNDLE -\u001b[K\n",
      "\u001b[12A\n",
      "\u001b[2mexecutor >  local (5)\u001b[m\u001b[K\n",
      "\u001b[2m[\u001b[0;34m16/98781a\u001b[0;2m] \u001b[0;2m\u001b[mNFC…IDATOR\u001b[33;2m (\u001b[0;33msamplesheet_2.csv\u001b[2m)\u001b[m\u001b[2m |\u001b[m 1 of 1\u001b[32m ✔\u001b[m\u001b[K\n",
      "\u001b[2m[\u001b[0;34md3/dde9b0\u001b[0;2m] \u001b[0;2m\u001b[mNFC…_MATRIXFILTER\u001b[33;2m (\u001b[0;33m[id:study]\u001b[2m)\u001b[m\u001b[2m |\u001b[m 1 of 1\u001b[32m ✔\u001b[m\u001b[K\n",
      "\u001b[2m[\u001b[0;34m1e/2ab6eb\u001b[0;2m] \u001b[0;2mNFC…arget:SNI_oxy, blocking:\u001b[m])\u001b[2m |\u001b[m 0 of 1\u001b[K\n",
      "\u001b[2m[\u001b[0;34m1b/d20f2e\u001b[0;2m] \u001b[0;2mNFC…arget:SNI_oxy, blocking:\u001b[m])\u001b[2m |\u001b[m 1 of 2\u001b[K\n",
      "\u001b[2m[\u001b[0;34m-        \u001b[0;2m] \u001b[0;2mNFC…ABUNDANCE:\u001b[mFILTER_DIFFTABLE\u001b[2m |\u001b[m 0 of 1\u001b[K\n",
      "\u001b[2m[\u001b[0;34m-        \u001b[0;2m] \u001b[0;2mNFC…ABUNDANCE:\u001b[mPLOT_EXPLORATORY -\u001b[K\n",
      "\u001b[2m[\u001b[0;34m-        \u001b[0;2m] \u001b[0;2mNFC…BUNDANCE:\u001b[mPLOT_DIFFERENTIAL -\u001b[K\n",
      "\u001b[2m[\u001b[0;34m-        \u001b[0;2m] \u001b[0;2mNFC…TIALABUNDANCE:\u001b[mSHINYNGS_APP -\u001b[K\n",
      "\u001b[2m[\u001b[0;34m-        \u001b[0;2m] \u001b[0;2mNFC…BUNDANCE:\u001b[mRMARKDOWNNOTEBOOK -\u001b[K\n",
      "\u001b[2m[\u001b[0;34m-        \u001b[0;2m] \u001b[0;2mNFC…UNDANCE:\u001b[mMAKE_REPORT_BUNDLE -\u001b[K\n",
      "\u001b[12A\n",
      "\u001b[2mexecutor >  local (6)\u001b[m\u001b[K\n",
      "\u001b[2m[\u001b[0;34m16/98781a\u001b[0;2m] \u001b[0;2m\u001b[mNFC…IDATOR\u001b[33;2m (\u001b[0;33msamplesheet_2.csv\u001b[2m)\u001b[m\u001b[2m |\u001b[m 1 of 1\u001b[32m ✔\u001b[m\u001b[K\n",
      "\u001b[2m[\u001b[0;34md3/dde9b0\u001b[0;2m] \u001b[0;2m\u001b[mNFC…_MATRIXFILTER\u001b[33;2m (\u001b[0;33m[id:study]\u001b[2m)\u001b[m\u001b[2m |\u001b[m 1 of 1\u001b[32m ✔\u001b[m\u001b[K\n",
      "\u001b[2m[\u001b[0;34m1e/2ab6eb\u001b[0;2m] \u001b[0;2mNFC…arget:SNI_oxy, blocking:\u001b[m])\u001b[2m |\u001b[m 0 of 1\u001b[K\n",
      "\u001b[2m[\u001b[0;34m63/f135b4\u001b[0;2m] \u001b[0;2mNFC…rget:Sham_oxy, blocking:\u001b[m])\u001b[2m |\u001b[m 2 of 2\u001b[32m ✔\u001b[m\u001b[K\n",
      "\u001b[2m[\u001b[0;34m00/cc0287\u001b[0;2m] \u001b[0;2mNFC…DANCE:\u001b[mFILTER_DIFFTABLE\u001b[33;2m (\u001b[0;33m1\u001b[2m)\u001b[m\u001b[2m |\u001b[m 0 of 2\u001b[K\n",
      "\u001b[2m[\u001b[0;34m-        \u001b[0;2m] \u001b[0;2mNFC…ABUNDANCE:\u001b[mPLOT_EXPLORATORY -\u001b[K\n",
      "\u001b[2m[\u001b[0;34m-        \u001b[0;2m] \u001b[0;2mNFC…BUNDANCE:\u001b[mPLOT_DIFFERENTIAL -\u001b[K\n",
      "\u001b[2m[\u001b[0;34m-        \u001b[0;2m] \u001b[0;2mNFC…TIALABUNDANCE:\u001b[mSHINYNGS_APP -\u001b[K\n",
      "\u001b[2m[\u001b[0;34m-        \u001b[0;2m] \u001b[0;2mNFC…BUNDANCE:\u001b[mRMARKDOWNNOTEBOOK -\u001b[K\n",
      "\u001b[2m[\u001b[0;34m-        \u001b[0;2m] \u001b[0;2mNFC…UNDANCE:\u001b[mMAKE_REPORT_BUNDLE -\u001b[K\n",
      "\u001b[12A\n",
      "\u001b[2mexecutor >  local (7)\u001b[m\u001b[K\n",
      "\u001b[2m[\u001b[0;34m16/98781a\u001b[0;2m] \u001b[0;2m\u001b[mNFC…IDATOR\u001b[33;2m (\u001b[0;33msamplesheet_2.csv\u001b[2m)\u001b[m\u001b[2m |\u001b[m 1 of 1\u001b[32m ✔\u001b[m\u001b[K\n",
      "\u001b[2m[\u001b[0;34md3/dde9b0\u001b[0;2m] \u001b[0;2m\u001b[mNFC…_MATRIXFILTER\u001b[33;2m (\u001b[0;33m[id:study]\u001b[2m)\u001b[m\u001b[2m |\u001b[m 1 of 1\u001b[32m ✔\u001b[m\u001b[K\n",
      "\u001b[2m[\u001b[0;34m1e/2ab6eb\u001b[0;2m] \u001b[0;2mNFC…arget:SNI_oxy, blocking:\u001b[m])\u001b[2m |\u001b[m 0 of 1\u001b[K\n",
      "\u001b[2m[\u001b[0;34m63/f135b4\u001b[0;2m] \u001b[0;2mNFC…rget:Sham_oxy, blocking:\u001b[m])\u001b[2m |\u001b[m 2 of 2\u001b[32m ✔\u001b[m\u001b[K\n",
      "\u001b[2m[\u001b[0;34m6d/acca7a\u001b[0;2m] \u001b[0;2mNFC…DANCE:\u001b[mFILTER_DIFFTABLE\u001b[33;2m (\u001b[0;33m2\u001b[2m)\u001b[m\u001b[2m |\u001b[m 1 of 2\u001b[K\n",
      "\u001b[2m[\u001b[0;34m-        \u001b[0;2m] \u001b[0;2mNFC…ABUNDANCE:\u001b[mPLOT_EXPLORATORY -\u001b[K\n",
      "\u001b[2m[\u001b[0;34m-        \u001b[0;2m] \u001b[0;2mNFC…BUNDANCE:\u001b[mPLOT_DIFFERENTIAL -\u001b[K\n",
      "\u001b[2m[\u001b[0;34m-        \u001b[0;2m] \u001b[0;2mNFC…TIALABUNDANCE:\u001b[mSHINYNGS_APP -\u001b[K\n",
      "\u001b[2m[\u001b[0;34m-        \u001b[0;2m] \u001b[0;2mNFC…BUNDANCE:\u001b[mRMARKDOWNNOTEBOOK -\u001b[K\n",
      "\u001b[2m[\u001b[0;34m-        \u001b[0;2m] \u001b[0;2mNFC…UNDANCE:\u001b[mMAKE_REPORT_BUNDLE -\u001b[K\n",
      "\u001b[12A\n",
      "\u001b[2mexecutor >  local (7)\u001b[m\u001b[K\n",
      "\u001b[2m[\u001b[0;34m16/98781a\u001b[0;2m] \u001b[0;2m\u001b[mNFC…IDATOR\u001b[33;2m (\u001b[0;33msamplesheet_2.csv\u001b[2m)\u001b[m\u001b[2m |\u001b[m 1 of 1\u001b[32m ✔\u001b[m\u001b[K\n",
      "\u001b[2m[\u001b[0;34md3/dde9b0\u001b[0;2m] \u001b[0;2m\u001b[mNFC…_MATRIXFILTER\u001b[33;2m (\u001b[0;33m[id:study]\u001b[2m)\u001b[m\u001b[2m |\u001b[m 1 of 1\u001b[32m ✔\u001b[m\u001b[K\n",
      "\u001b[2m[\u001b[0;34m1e/2ab6eb\u001b[0;2m] \u001b[0;2mNFC…arget:SNI_oxy, blocking:\u001b[m])\u001b[2m |\u001b[m 0 of 1\u001b[K\n",
      "\u001b[2m[\u001b[0;34m63/f135b4\u001b[0;2m] \u001b[0;2mNFC…rget:Sham_oxy, blocking:\u001b[m])\u001b[2m |\u001b[m 2 of 2\u001b[32m ✔\u001b[m\u001b[K\n",
      "\u001b[2m[\u001b[0;34m6d/acca7a\u001b[0;2m] \u001b[0;2mNFC…DANCE:\u001b[mFILTER_DIFFTABLE\u001b[33;2m (\u001b[0;33m2\u001b[2m)\u001b[m\u001b[2m |\u001b[m 1 of 2\u001b[K\n",
      "\u001b[2m[\u001b[0;34m-        \u001b[0;2m] \u001b[0;2mNFC…ABUNDANCE:\u001b[mPLOT_EXPLORATORY -\u001b[K\n",
      "\u001b[2m[\u001b[0;34m-        \u001b[0;2m] \u001b[0;2mNFC…BUNDANCE:\u001b[mPLOT_DIFFERENTIAL -\u001b[K\n",
      "\u001b[2m[\u001b[0;34m-        \u001b[0;2m] \u001b[0;2mNFC…TIALABUNDANCE:\u001b[mSHINYNGS_APP -\u001b[K\n",
      "\u001b[2m[\u001b[0;34m-        \u001b[0;2m] \u001b[0;2mNFC…BUNDANCE:\u001b[mRMARKDOWNNOTEBOOK -\u001b[K\n",
      "\u001b[2m[\u001b[0;34m-        \u001b[0;2m] \u001b[0;2mNFC…UNDANCE:\u001b[mMAKE_REPORT_BUNDLE -\u001b[K\n",
      "\u001b[12A\n",
      "\u001b[2mexecutor >  local (7)\u001b[m\u001b[K\n",
      "\u001b[2m[\u001b[0;34m16/98781a\u001b[0;2m] \u001b[0;2m\u001b[mNFC…IDATOR\u001b[33;2m (\u001b[0;33msamplesheet_2.csv\u001b[2m)\u001b[m\u001b[2m |\u001b[m 1 of 1\u001b[32m ✔\u001b[m\u001b[K\n",
      "\u001b[2m[\u001b[0;34md3/dde9b0\u001b[0;2m] \u001b[0;2m\u001b[mNFC…_MATRIXFILTER\u001b[33;2m (\u001b[0;33m[id:study]\u001b[2m)\u001b[m\u001b[2m |\u001b[m 1 of 1\u001b[32m ✔\u001b[m\u001b[K\n",
      "\u001b[2m[\u001b[0;34m1e/2ab6eb\u001b[0;2m] \u001b[0;2mNFC…arget:SNI_oxy, blocking:\u001b[m])\u001b[2m |\u001b[m 0 of 1\u001b[K\n",
      "\u001b[2m[\u001b[0;34m63/f135b4\u001b[0;2m] \u001b[0;2mNFC…rget:Sham_oxy, blocking:\u001b[m])\u001b[2m |\u001b[m 2 of 2\u001b[32m ✔\u001b[m\u001b[K\n",
      "\u001b[2m[\u001b[0;34m6d/acca7a\u001b[0;2m] \u001b[0;2mNFC…DANCE:\u001b[mFILTER_DIFFTABLE\u001b[33;2m (\u001b[0;33m2\u001b[2m)\u001b[m\u001b[2m |\u001b[m 2 of 2\u001b[32m ✔\u001b[m\u001b[K\n",
      "\u001b[2m[\u001b[0;34m-        \u001b[0;2m] \u001b[0;2mNFC…ABUNDANCE:\u001b[mPLOT_EXPLORATORY -\u001b[K\n",
      "\u001b[2m[\u001b[0;34m-        \u001b[0;2m] \u001b[0;2mNFC…BUNDANCE:\u001b[mPLOT_DIFFERENTIAL -\u001b[K\n",
      "\u001b[2m[\u001b[0;34m-        \u001b[0;2m] \u001b[0;2mNFC…TIALABUNDANCE:\u001b[mSHINYNGS_APP -\u001b[K\n",
      "\u001b[2m[\u001b[0;34m-        \u001b[0;2m] \u001b[0;2mNFC…BUNDANCE:\u001b[mRMARKDOWNNOTEBOOK -\u001b[K\n",
      "\u001b[2m[\u001b[0;34m-        \u001b[0;2m] \u001b[0;2mNFC…UNDANCE:\u001b[mMAKE_REPORT_BUNDLE -\u001b[K\n",
      "\u001b[12A\n",
      "\u001b[2mexecutor >  local (7)\u001b[m\u001b[K\n",
      "\u001b[2m[\u001b[0;34m16/98781a\u001b[0;2m] \u001b[0;2m\u001b[mNFC…IDATOR\u001b[33;2m (\u001b[0;33msamplesheet_2.csv\u001b[2m)\u001b[m\u001b[2m |\u001b[m 1 of 1\u001b[32m ✔\u001b[m\u001b[K\n",
      "\u001b[2m[\u001b[0;34md3/dde9b0\u001b[0;2m] \u001b[0;2m\u001b[mNFC…_MATRIXFILTER\u001b[33;2m (\u001b[0;33m[id:study]\u001b[2m)\u001b[m\u001b[2m |\u001b[m 1 of 1\u001b[32m ✔\u001b[m\u001b[K\n",
      "\u001b[2m[\u001b[0;34m1e/2ab6eb\u001b[0;2m] \u001b[0;2mNFC…arget:SNI_oxy, blocking:\u001b[m])\u001b[2m |\u001b[m 1 of 1\u001b[32m ✔\u001b[m\u001b[K\n",
      "\u001b[2m[\u001b[0;34m63/f135b4\u001b[0;2m] \u001b[0;2mNFC…rget:Sham_oxy, blocking:\u001b[m])\u001b[2m |\u001b[m 2 of 2\u001b[32m ✔\u001b[m\u001b[K\n",
      "\u001b[2m[\u001b[0;34m6d/acca7a\u001b[0;2m] \u001b[0;2mNFC…DANCE:\u001b[mFILTER_DIFFTABLE\u001b[33;2m (\u001b[0;33m2\u001b[2m)\u001b[m\u001b[2m |\u001b[m 2 of 2\u001b[32m ✔\u001b[m\u001b[K\n",
      "\u001b[2m[\u001b[0;34m-        \u001b[0;2m] \u001b[0;2mNFC…ABUNDANCE:\u001b[mPLOT_EXPLORATORY -\u001b[K\n",
      "\u001b[2m[\u001b[0;34m-        \u001b[0;2m] \u001b[0;2mNFC…BUNDANCE:\u001b[mPLOT_DIFFERENTIAL -\u001b[K\n",
      "\u001b[2m[\u001b[0;34m-        \u001b[0;2m] \u001b[0;2mNFC…TIALABUNDANCE:\u001b[mSHINYNGS_APP -\u001b[K\n",
      "\u001b[2m[\u001b[0;34m-        \u001b[0;2m] \u001b[0;2mNFC…BUNDANCE:\u001b[mRMARKDOWNNOTEBOOK -\u001b[K\n",
      "\u001b[2m[\u001b[0;34m-        \u001b[0;2m] \u001b[0;2mNFC…UNDANCE:\u001b[mMAKE_REPORT_BUNDLE -\u001b[K\n",
      "\u001b[12A\n",
      "\u001b[2mexecutor >  local (9)\u001b[m\u001b[K\n",
      "\u001b[2m[\u001b[0;34m16/98781a\u001b[0;2m] \u001b[0;2m\u001b[mNFC…IDATOR\u001b[33;2m (\u001b[0;33msamplesheet_2.csv\u001b[2m)\u001b[m\u001b[2m |\u001b[m 1 of 1\u001b[32m ✔\u001b[m\u001b[K\n",
      "\u001b[2m[\u001b[0;34md3/dde9b0\u001b[0;2m] \u001b[0;2m\u001b[mNFC…_MATRIXFILTER\u001b[33;2m (\u001b[0;33m[id:study]\u001b[2m)\u001b[m\u001b[2m |\u001b[m 1 of 1\u001b[32m ✔\u001b[m\u001b[K\n",
      "\u001b[2m[\u001b[0;34m1e/2ab6eb\u001b[0;2m] \u001b[0;2mNFC…arget:SNI_oxy, blocking:\u001b[m])\u001b[2m |\u001b[m 1 of 1\u001b[32m ✔\u001b[m\u001b[K\n",
      "\u001b[2m[\u001b[0;34m63/f135b4\u001b[0;2m] \u001b[0;2mNFC…rget:Sham_oxy, blocking:\u001b[m])\u001b[2m |\u001b[m 2 of 2\u001b[32m ✔\u001b[m\u001b[K\n",
      "\u001b[2m[\u001b[0;34m6d/acca7a\u001b[0;2m] \u001b[0;2mNFC…DANCE:\u001b[mFILTER_DIFFTABLE\u001b[33;2m (\u001b[0;33m2\u001b[2m)\u001b[m\u001b[2m |\u001b[m 2 of 2\u001b[32m ✔\u001b[m\u001b[K\n",
      "\u001b[2m[\u001b[0;34mf7/101a96\u001b[0;2m] \u001b[0;2m\u001b[mNFC…OT_EXPLORATORY\u001b[33;2m (\u001b[0;33mcondition\u001b[2m)\u001b[m\u001b[2m |\u001b[m 0 of 1\u001b[K\n",
      "\u001b[2m[\u001b[0;34m-        \u001b[0;2m] \u001b[0;2mNFC…BUNDANCE:\u001b[mPLOT_DIFFERENTIAL\u001b[2m |\u001b[m 0 of 2\u001b[K\n",
      "\u001b[2m[\u001b[0;34mb7/e67df4\u001b[0;2m] \u001b[0;2mNFC…DANCE:\u001b[mSHINYNGS_APP\u001b[33;2m (\u001b[0;33mstudy\u001b[2m)\u001b[m\u001b[2m |\u001b[m 0 of 1\u001b[K\n",
      "\u001b[2m[\u001b[0;34m-        \u001b[0;2m] \u001b[0;2mNFC…BUNDANCE:\u001b[mRMARKDOWNNOTEBOOK -\u001b[K\n",
      "\u001b[2m[\u001b[0;34m-        \u001b[0;2m] \u001b[0;2mNFC…UNDANCE:\u001b[mMAKE_REPORT_BUNDLE -\u001b[K\n",
      "\u001b[12A\n",
      "\u001b[2mexecutor >  local (10)\u001b[m\u001b[K\n",
      "\u001b[2m[\u001b[0;34m16/98781a\u001b[0;2m] \u001b[0;2m\u001b[mNFC…IDATOR\u001b[33;2m (\u001b[0;33msamplesheet_2.csv\u001b[2m)\u001b[m\u001b[2m |\u001b[m 1 of 1\u001b[32m ✔\u001b[m\u001b[K\n",
      "\u001b[2m[\u001b[0;34md3/dde9b0\u001b[0;2m] \u001b[0;2m\u001b[mNFC…_MATRIXFILTER\u001b[33;2m (\u001b[0;33m[id:study]\u001b[2m)\u001b[m\u001b[2m |\u001b[m 1 of 1\u001b[32m ✔\u001b[m\u001b[K\n",
      "\u001b[2m[\u001b[0;34m1e/2ab6eb\u001b[0;2m] \u001b[0;2mNFC…arget:SNI_oxy, blocking:\u001b[m])\u001b[2m |\u001b[m 1 of 1\u001b[32m ✔\u001b[m\u001b[K\n",
      "\u001b[2m[\u001b[0;34m63/f135b4\u001b[0;2m] \u001b[0;2mNFC…rget:Sham_oxy, blocking:\u001b[m])\u001b[2m |\u001b[m 2 of 2\u001b[32m ✔\u001b[m\u001b[K\n",
      "\u001b[2m[\u001b[0;34m6d/acca7a\u001b[0;2m] \u001b[0;2mNFC…DANCE:\u001b[mFILTER_DIFFTABLE\u001b[33;2m (\u001b[0;33m2\u001b[2m)\u001b[m\u001b[2m |\u001b[m 2 of 2\u001b[32m ✔\u001b[m\u001b[K\n",
      "\u001b[2m[\u001b[0;34mf7/101a96\u001b[0;2m] \u001b[0;2m\u001b[mNFC…OT_EXPLORATORY\u001b[33;2m (\u001b[0;33mcondition\u001b[2m)\u001b[m\u001b[2m |\u001b[m 0 of 1\u001b[K\n",
      "\u001b[2m[\u001b[0;34mda/de399e\u001b[0;2m] \u001b[0;2m\u001b[mNFC…tion_control_treated_test)\u001b[2m |\u001b[m 0 of 2\u001b[K\n",
      "\u001b[2m[\u001b[0;34mb7/e67df4\u001b[0;2m] \u001b[0;2mNFC…DANCE:\u001b[mSHINYNGS_APP\u001b[33;2m (\u001b[0;33mstudy\u001b[2m)\u001b[m\u001b[2m |\u001b[m 1 of 1\u001b[32m ✔\u001b[m\u001b[K\n",
      "\u001b[2m[\u001b[0;34m-        \u001b[0;2m] \u001b[0;2mNFC…BUNDANCE:\u001b[mRMARKDOWNNOTEBOOK -\u001b[K\n",
      "\u001b[2m[\u001b[0;34m-        \u001b[0;2m] \u001b[0;2mNFC…UNDANCE:\u001b[mMAKE_REPORT_BUNDLE -\u001b[K\n",
      "\u001b[12A\n",
      "\u001b[2mexecutor >  local (10)\u001b[m\u001b[K\n",
      "\u001b[2m[\u001b[0;34m16/98781a\u001b[0;2m] \u001b[0;2m\u001b[mNFC…IDATOR\u001b[33;2m (\u001b[0;33msamplesheet_2.csv\u001b[2m)\u001b[m\u001b[2m |\u001b[m 1 of 1\u001b[32m ✔\u001b[m\u001b[K\n",
      "\u001b[2m[\u001b[0;34md3/dde9b0\u001b[0;2m] \u001b[0;2m\u001b[mNFC…_MATRIXFILTER\u001b[33;2m (\u001b[0;33m[id:study]\u001b[2m)\u001b[m\u001b[2m |\u001b[m 1 of 1\u001b[32m ✔\u001b[m\u001b[K\n",
      "\u001b[2m[\u001b[0;34m1e/2ab6eb\u001b[0;2m] \u001b[0;2mNFC…arget:SNI_oxy, blocking:\u001b[m])\u001b[2m |\u001b[m 1 of 1\u001b[32m ✔\u001b[m\u001b[K\n",
      "\u001b[2m[\u001b[0;34m63/f135b4\u001b[0;2m] \u001b[0;2mNFC…rget:Sham_oxy, blocking:\u001b[m])\u001b[2m |\u001b[m 2 of 2\u001b[32m ✔\u001b[m\u001b[K\n",
      "\u001b[2m[\u001b[0;34m6d/acca7a\u001b[0;2m] \u001b[0;2mNFC…DANCE:\u001b[mFILTER_DIFFTABLE\u001b[33;2m (\u001b[0;33m2\u001b[2m)\u001b[m\u001b[2m |\u001b[m 2 of 2\u001b[32m ✔\u001b[m\u001b[K\n",
      "\u001b[2m[\u001b[0;34mf7/101a96\u001b[0;2m] \u001b[0;2m\u001b[mNFC…OT_EXPLORATORY\u001b[33;2m (\u001b[0;33mcondition\u001b[2m)\u001b[m\u001b[2m |\u001b[m 0 of 1\u001b[K\n",
      "\u001b[2m[\u001b[0;34mda/de399e\u001b[0;2m] \u001b[0;2m\u001b[mNFC…tion_control_treated_test)\u001b[2m |\u001b[m 0 of 2\u001b[K\n",
      "\u001b[2m[\u001b[0;34mb7/e67df4\u001b[0;2m] \u001b[0;2mNFC…DANCE:\u001b[mSHINYNGS_APP\u001b[33;2m (\u001b[0;33mstudy\u001b[2m)\u001b[m\u001b[2m |\u001b[m 1 of 1\u001b[32m ✔\u001b[m\u001b[K\n",
      "\u001b[2m[\u001b[0;34m-        \u001b[0;2m] \u001b[0;2mNFC…BUNDANCE:\u001b[mRMARKDOWNNOTEBOOK -\u001b[K\n",
      "\u001b[2m[\u001b[0;34m-        \u001b[0;2m] \u001b[0;2mNFC…UNDANCE:\u001b[mMAKE_REPORT_BUNDLE -\u001b[K\n",
      "\u001b[12A\n",
      "\u001b[2mexecutor >  local (11)\u001b[m\u001b[K\n",
      "\u001b[2m[\u001b[0;34m16/98781a\u001b[0;2m] \u001b[0;2m\u001b[mNFC…IDATOR\u001b[33;2m (\u001b[0;33msamplesheet_2.csv\u001b[2m)\u001b[m\u001b[2m |\u001b[m 1 of 1\u001b[32m ✔\u001b[m\u001b[K\n",
      "\u001b[2m[\u001b[0;34md3/dde9b0\u001b[0;2m] \u001b[0;2m\u001b[mNFC…_MATRIXFILTER\u001b[33;2m (\u001b[0;33m[id:study]\u001b[2m)\u001b[m\u001b[2m |\u001b[m 1 of 1\u001b[32m ✔\u001b[m\u001b[K\n",
      "\u001b[2m[\u001b[0;34m1e/2ab6eb\u001b[0;2m] \u001b[0;2mNFC…arget:SNI_oxy, blocking:\u001b[m])\u001b[2m |\u001b[m 1 of 1\u001b[32m ✔\u001b[m\u001b[K\n",
      "\u001b[2m[\u001b[0;34m63/f135b4\u001b[0;2m] \u001b[0;2mNFC…rget:Sham_oxy, blocking:\u001b[m])\u001b[2m |\u001b[m 2 of 2\u001b[32m ✔\u001b[m\u001b[K\n",
      "\u001b[2m[\u001b[0;34m6d/acca7a\u001b[0;2m] \u001b[0;2mNFC…DANCE:\u001b[mFILTER_DIFFTABLE\u001b[33;2m (\u001b[0;33m2\u001b[2m)\u001b[m\u001b[2m |\u001b[m 2 of 2\u001b[32m ✔\u001b[m\u001b[K\n",
      "\u001b[2m[\u001b[0;34mf7/101a96\u001b[0;2m] \u001b[0;2m\u001b[mNFC…OT_EXPLORATORY\u001b[33;2m (\u001b[0;33mcondition\u001b[2m)\u001b[m\u001b[2m |\u001b[m 1 of 1\u001b[32m ✔\u001b[m\u001b[K\n",
      "\u001b[2m[\u001b[0;34mb3/5b0202\u001b[0;2m] \u001b[0;2m\u001b[mNFC…condition_control_treated)\u001b[2m |\u001b[m 0 of 2\u001b[K\n",
      "\u001b[2m[\u001b[0;34mb7/e67df4\u001b[0;2m] \u001b[0;2mNFC…DANCE:\u001b[mSHINYNGS_APP\u001b[33;2m (\u001b[0;33mstudy\u001b[2m)\u001b[m\u001b[2m |\u001b[m 1 of 1\u001b[32m ✔\u001b[m\u001b[K\n",
      "\u001b[2m[\u001b[0;34m-        \u001b[0;2m] \u001b[0;2mNFC…BUNDANCE:\u001b[mRMARKDOWNNOTEBOOK -\u001b[K\n",
      "\u001b[2m[\u001b[0;34m-        \u001b[0;2m] \u001b[0;2mNFC…UNDANCE:\u001b[mMAKE_REPORT_BUNDLE -\u001b[K\n",
      "\u001b[12A\n",
      "\u001b[2mexecutor >  local (11)\u001b[m\u001b[K\n",
      "\u001b[2m[\u001b[0;34m16/98781a\u001b[0;2m] \u001b[0;2m\u001b[mNFC…IDATOR\u001b[33;2m (\u001b[0;33msamplesheet_2.csv\u001b[2m)\u001b[m\u001b[2m |\u001b[m 1 of 1\u001b[32m ✔\u001b[m\u001b[K\n",
      "\u001b[2m[\u001b[0;34md3/dde9b0\u001b[0;2m] \u001b[0;2m\u001b[mNFC…_MATRIXFILTER\u001b[33;2m (\u001b[0;33m[id:study]\u001b[2m)\u001b[m\u001b[2m |\u001b[m 1 of 1\u001b[32m ✔\u001b[m\u001b[K\n",
      "\u001b[2m[\u001b[0;34m1e/2ab6eb\u001b[0;2m] \u001b[0;2mNFC…arget:SNI_oxy, blocking:\u001b[m])\u001b[2m |\u001b[m 1 of 1\u001b[32m ✔\u001b[m\u001b[K\n",
      "\u001b[2m[\u001b[0;34m63/f135b4\u001b[0;2m] \u001b[0;2mNFC…rget:Sham_oxy, blocking:\u001b[m])\u001b[2m |\u001b[m 2 of 2\u001b[32m ✔\u001b[m\u001b[K\n",
      "\u001b[2m[\u001b[0;34m6d/acca7a\u001b[0;2m] \u001b[0;2mNFC…DANCE:\u001b[mFILTER_DIFFTABLE\u001b[33;2m (\u001b[0;33m2\u001b[2m)\u001b[m\u001b[2m |\u001b[m 2 of 2\u001b[32m ✔\u001b[m\u001b[K\n",
      "\u001b[2m[\u001b[0;34mf7/101a96\u001b[0;2m] \u001b[0;2m\u001b[mNFC…OT_EXPLORATORY\u001b[33;2m (\u001b[0;33mcondition\u001b[2m)\u001b[m\u001b[2m |\u001b[m 1 of 1\u001b[32m ✔\u001b[m\u001b[K\n",
      "\u001b[2m[\u001b[0;34mda/de399e\u001b[0;2m] \u001b[0;2m\u001b[mNFC…tion_control_treated_test)\u001b[2m |\u001b[m 1 of 2\u001b[K\n",
      "\u001b[2m[\u001b[0;34mb7/e67df4\u001b[0;2m] \u001b[0;2mNFC…DANCE:\u001b[mSHINYNGS_APP\u001b[33;2m (\u001b[0;33mstudy\u001b[2m)\u001b[m\u001b[2m |\u001b[m 1 of 1\u001b[32m ✔\u001b[m\u001b[K\n",
      "\u001b[2m[\u001b[0;34m-        \u001b[0;2m] \u001b[0;2mNFC…BUNDANCE:\u001b[mRMARKDOWNNOTEBOOK -\u001b[K\n",
      "\u001b[2m[\u001b[0;34m-        \u001b[0;2m] \u001b[0;2mNFC…UNDANCE:\u001b[mMAKE_REPORT_BUNDLE -\u001b[K\n",
      "\u001b[12A\n",
      "\u001b[2mexecutor >  local (11)\u001b[m\u001b[K\n",
      "\u001b[2m[\u001b[0;34m16/98781a\u001b[0;2m] \u001b[0;2m\u001b[mNFC…IDATOR\u001b[33;2m (\u001b[0;33msamplesheet_2.csv\u001b[2m)\u001b[m\u001b[2m |\u001b[m 1 of 1\u001b[32m ✔\u001b[m\u001b[K\n",
      "\u001b[2m[\u001b[0;34md3/dde9b0\u001b[0;2m] \u001b[0;2m\u001b[mNFC…_MATRIXFILTER\u001b[33;2m (\u001b[0;33m[id:study]\u001b[2m)\u001b[m\u001b[2m |\u001b[m 1 of 1\u001b[32m ✔\u001b[m\u001b[K\n",
      "\u001b[2m[\u001b[0;34m1e/2ab6eb\u001b[0;2m] \u001b[0;2mNFC…arget:SNI_oxy, blocking:\u001b[m])\u001b[2m |\u001b[m 1 of 1\u001b[32m ✔\u001b[m\u001b[K\n",
      "\u001b[2m[\u001b[0;34m63/f135b4\u001b[0;2m] \u001b[0;2mNFC…rget:Sham_oxy, blocking:\u001b[m])\u001b[2m |\u001b[m 2 of 2\u001b[32m ✔\u001b[m\u001b[K\n",
      "\u001b[2m[\u001b[0;34m6d/acca7a\u001b[0;2m] \u001b[0;2mNFC…DANCE:\u001b[mFILTER_DIFFTABLE\u001b[33;2m (\u001b[0;33m2\u001b[2m)\u001b[m\u001b[2m |\u001b[m 2 of 2\u001b[32m ✔\u001b[m\u001b[K\n",
      "\u001b[2m[\u001b[0;34mf7/101a96\u001b[0;2m] \u001b[0;2m\u001b[mNFC…OT_EXPLORATORY\u001b[33;2m (\u001b[0;33mcondition\u001b[2m)\u001b[m\u001b[2m |\u001b[m 1 of 1\u001b[32m ✔\u001b[m\u001b[K\n",
      "\u001b[2m[\u001b[0;34mb3/5b0202\u001b[0;2m] \u001b[0;2m\u001b[mNFC…condition_control_treated)\u001b[2m |\u001b[m 2 of 2\u001b[32m ✔\u001b[m\u001b[K\n",
      "\u001b[2m[\u001b[0;34mb7/e67df4\u001b[0;2m] \u001b[0;2mNFC…DANCE:\u001b[mSHINYNGS_APP\u001b[33;2m (\u001b[0;33mstudy\u001b[2m)\u001b[m\u001b[2m |\u001b[m 1 of 1\u001b[32m ✔\u001b[m\u001b[K\n",
      "\u001b[2m[\u001b[0;34m-        \u001b[0;2m] \u001b[0;2mNFC…BUNDANCE:\u001b[mRMARKDOWNNOTEBOOK -\u001b[K\n",
      "\u001b[2m[\u001b[0;34m-        \u001b[0;2m] \u001b[0;2mNFC…UNDANCE:\u001b[mMAKE_REPORT_BUNDLE -\u001b[K\n",
      "\u001b[12A\n",
      "\u001b[2mexecutor >  local (12)\u001b[m\u001b[K\n",
      "\u001b[2m[\u001b[0;34m16/98781a\u001b[0;2m] \u001b[0;2m\u001b[mNFC…IDATOR\u001b[33;2m (\u001b[0;33msamplesheet_2.csv\u001b[2m)\u001b[m\u001b[2m |\u001b[m 1 of 1\u001b[32m ✔\u001b[m\u001b[K\n",
      "\u001b[2m[\u001b[0;34md3/dde9b0\u001b[0;2m] \u001b[0;2m\u001b[mNFC…_MATRIXFILTER\u001b[33;2m (\u001b[0;33m[id:study]\u001b[2m)\u001b[m\u001b[2m |\u001b[m 1 of 1\u001b[32m ✔\u001b[m\u001b[K\n",
      "\u001b[2m[\u001b[0;34m1e/2ab6eb\u001b[0;2m] \u001b[0;2mNFC…arget:SNI_oxy, blocking:\u001b[m])\u001b[2m |\u001b[m 1 of 1\u001b[32m ✔\u001b[m\u001b[K\n",
      "\u001b[2m[\u001b[0;34m63/f135b4\u001b[0;2m] \u001b[0;2mNFC…rget:Sham_oxy, blocking:\u001b[m])\u001b[2m |\u001b[m 2 of 2\u001b[32m ✔\u001b[m\u001b[K\n",
      "\u001b[2m[\u001b[0;34m6d/acca7a\u001b[0;2m] \u001b[0;2mNFC…DANCE:\u001b[mFILTER_DIFFTABLE\u001b[33;2m (\u001b[0;33m2\u001b[2m)\u001b[m\u001b[2m |\u001b[m 2 of 2\u001b[32m ✔\u001b[m\u001b[K\n",
      "\u001b[2m[\u001b[0;34mf7/101a96\u001b[0;2m] \u001b[0;2m\u001b[mNFC…OT_EXPLORATORY\u001b[33;2m (\u001b[0;33mcondition\u001b[2m)\u001b[m\u001b[2m |\u001b[m 1 of 1\u001b[32m ✔\u001b[m\u001b[K\n",
      "\u001b[2m[\u001b[0;34mb3/5b0202\u001b[0;2m] \u001b[0;2m\u001b[mNFC…condition_control_treated)\u001b[2m |\u001b[m 2 of 2\u001b[32m ✔\u001b[m\u001b[K\n",
      "\u001b[2m[\u001b[0;34mb7/e67df4\u001b[0;2m] \u001b[0;2mNFC…DANCE:\u001b[mSHINYNGS_APP\u001b[33;2m (\u001b[0;33mstudy\u001b[2m)\u001b[m\u001b[2m |\u001b[m 1 of 1\u001b[32m ✔\u001b[m\u001b[K\n",
      "\u001b[2m[\u001b[0;34m1a/b8ac5c\u001b[0;2m] \u001b[0;2mNFC…:\u001b[mRMARKDOWNNOTEBOOK\u001b[33;2m (\u001b[0;33mstudy\u001b[2m)\u001b[m\u001b[2m |\u001b[m 0 of 1\u001b[K\n",
      "\u001b[2m[\u001b[0;34m-        \u001b[0;2m] \u001b[0;2mNFC…UNDANCE:\u001b[mMAKE_REPORT_BUNDLE -\u001b[K\n",
      "\u001b[12A\n",
      "\u001b[2mexecutor >  local (13)\u001b[m\u001b[K\n",
      "\u001b[2m[\u001b[0;34m16/98781a\u001b[0;2m] \u001b[0;2m\u001b[mNFC…IDATOR\u001b[33;2m (\u001b[0;33msamplesheet_2.csv\u001b[2m)\u001b[m\u001b[2m |\u001b[m 1 of 1\u001b[32m ✔\u001b[m\u001b[K\n",
      "\u001b[2m[\u001b[0;34md3/dde9b0\u001b[0;2m] \u001b[0;2m\u001b[mNFC…_MATRIXFILTER\u001b[33;2m (\u001b[0;33m[id:study]\u001b[2m)\u001b[m\u001b[2m |\u001b[m 1 of 1\u001b[32m ✔\u001b[m\u001b[K\n",
      "\u001b[2m[\u001b[0;34m1e/2ab6eb\u001b[0;2m] \u001b[0;2mNFC…arget:SNI_oxy, blocking:\u001b[m])\u001b[2m |\u001b[m 1 of 1\u001b[32m ✔\u001b[m\u001b[K\n",
      "\u001b[2m[\u001b[0;34m63/f135b4\u001b[0;2m] \u001b[0;2mNFC…rget:Sham_oxy, blocking:\u001b[m])\u001b[2m |\u001b[m 2 of 2\u001b[32m ✔\u001b[m\u001b[K\n",
      "\u001b[2m[\u001b[0;34m6d/acca7a\u001b[0;2m] \u001b[0;2mNFC…DANCE:\u001b[mFILTER_DIFFTABLE\u001b[33;2m (\u001b[0;33m2\u001b[2m)\u001b[m\u001b[2m |\u001b[m 2 of 2\u001b[32m ✔\u001b[m\u001b[K\n",
      "\u001b[2m[\u001b[0;34mf7/101a96\u001b[0;2m] \u001b[0;2m\u001b[mNFC…OT_EXPLORATORY\u001b[33;2m (\u001b[0;33mcondition\u001b[2m)\u001b[m\u001b[2m |\u001b[m 1 of 1\u001b[32m ✔\u001b[m\u001b[K\n",
      "\u001b[2m[\u001b[0;34mb3/5b0202\u001b[0;2m] \u001b[0;2m\u001b[mNFC…condition_control_treated)\u001b[2m |\u001b[m 2 of 2\u001b[32m ✔\u001b[m\u001b[K\n",
      "\u001b[2m[\u001b[0;34mb7/e67df4\u001b[0;2m] \u001b[0;2mNFC…DANCE:\u001b[mSHINYNGS_APP\u001b[33;2m (\u001b[0;33mstudy\u001b[2m)\u001b[m\u001b[2m |\u001b[m 1 of 1\u001b[32m ✔\u001b[m\u001b[K\n",
      "\u001b[2m[\u001b[0;34m1a/b8ac5c\u001b[0;2m] \u001b[0;2mNFC…:\u001b[mRMARKDOWNNOTEBOOK\u001b[33;2m (\u001b[0;33mstudy\u001b[2m)\u001b[m\u001b[2m |\u001b[m 1 of 1\u001b[32m ✔\u001b[m\u001b[K\n",
      "\u001b[2m[\u001b[0;34me0/a507da\u001b[0;2m] \u001b[0;2m\u001b[mNFC…MAKE_REPORT_BUNDLE\u001b[33;2m (\u001b[0;33mstudy\u001b[2m)\u001b[m\u001b[2m |\u001b[m 0 of 1\u001b[K\n",
      "\u001b[12A\n",
      "\u001b[2mexecutor >  local (13)\u001b[m\u001b[K\n",
      "\u001b[2m[\u001b[0;34m16/98781a\u001b[0;2m] \u001b[0;2m\u001b[mNFC…IDATOR\u001b[33;2m (\u001b[0;33msamplesheet_2.csv\u001b[2m)\u001b[m\u001b[2m |\u001b[m 1 of 1\u001b[32m ✔\u001b[m\u001b[K\n",
      "\u001b[2m[\u001b[0;34md3/dde9b0\u001b[0;2m] \u001b[0;2m\u001b[mNFC…_MATRIXFILTER\u001b[33;2m (\u001b[0;33m[id:study]\u001b[2m)\u001b[m\u001b[2m |\u001b[m 1 of 1\u001b[32m ✔\u001b[m\u001b[K\n",
      "\u001b[2m[\u001b[0;34m1e/2ab6eb\u001b[0;2m] \u001b[0;2mNFC…arget:SNI_oxy, blocking:\u001b[m])\u001b[2m |\u001b[m 1 of 1\u001b[32m ✔\u001b[m\u001b[K\n",
      "\u001b[2m[\u001b[0;34m63/f135b4\u001b[0;2m] \u001b[0;2mNFC…rget:Sham_oxy, blocking:\u001b[m])\u001b[2m |\u001b[m 2 of 2\u001b[32m ✔\u001b[m\u001b[K\n",
      "\u001b[2m[\u001b[0;34m6d/acca7a\u001b[0;2m] \u001b[0;2mNFC…DANCE:\u001b[mFILTER_DIFFTABLE\u001b[33;2m (\u001b[0;33m2\u001b[2m)\u001b[m\u001b[2m |\u001b[m 2 of 2\u001b[32m ✔\u001b[m\u001b[K\n",
      "\u001b[2m[\u001b[0;34mf7/101a96\u001b[0;2m] \u001b[0;2m\u001b[mNFC…OT_EXPLORATORY\u001b[33;2m (\u001b[0;33mcondition\u001b[2m)\u001b[m\u001b[2m |\u001b[m 1 of 1\u001b[32m ✔\u001b[m\u001b[K\n",
      "\u001b[2m[\u001b[0;34mb3/5b0202\u001b[0;2m] \u001b[0;2m\u001b[mNFC…condition_control_treated)\u001b[2m |\u001b[m 2 of 2\u001b[32m ✔\u001b[m\u001b[K\n",
      "\u001b[2m[\u001b[0;34mb7/e67df4\u001b[0;2m] \u001b[0;2mNFC…DANCE:\u001b[mSHINYNGS_APP\u001b[33;2m (\u001b[0;33mstudy\u001b[2m)\u001b[m\u001b[2m |\u001b[m 1 of 1\u001b[32m ✔\u001b[m\u001b[K\n",
      "\u001b[2m[\u001b[0;34m1a/b8ac5c\u001b[0;2m] \u001b[0;2mNFC…:\u001b[mRMARKDOWNNOTEBOOK\u001b[33;2m (\u001b[0;33mstudy\u001b[2m)\u001b[m\u001b[2m |\u001b[m 1 of 1\u001b[32m ✔\u001b[m\u001b[K\n",
      "\u001b[2m[\u001b[0;34me0/a507da\u001b[0;2m] \u001b[0;2m\u001b[mNFC…MAKE_REPORT_BUNDLE\u001b[33;2m (\u001b[0;33mstudy\u001b[2m)\u001b[m\u001b[2m |\u001b[m 1 of 1\u001b[32m ✔\u001b[m\u001b[K\n",
      "\u001b[12A\n",
      "\u001b[2mexecutor >  local (13)\u001b[m\u001b[K\n",
      "\u001b[2m[\u001b[0;34m16/98781a\u001b[0;2m] \u001b[0;2m\u001b[mNFC…IDATOR\u001b[33;2m (\u001b[0;33msamplesheet_2.csv\u001b[2m)\u001b[m\u001b[2m |\u001b[m 1 of 1\u001b[32m ✔\u001b[m\u001b[K\n",
      "\u001b[2m[\u001b[0;34md3/dde9b0\u001b[0;2m] \u001b[0;2m\u001b[mNFC…_MATRIXFILTER\u001b[33;2m (\u001b[0;33m[id:study]\u001b[2m)\u001b[m\u001b[2m |\u001b[m 1 of 1\u001b[32m ✔\u001b[m\u001b[K\n",
      "\u001b[2m[\u001b[0;34m1e/2ab6eb\u001b[0;2m] \u001b[0;2mNFC…arget:SNI_oxy, blocking:\u001b[m])\u001b[2m |\u001b[m 1 of 1\u001b[32m ✔\u001b[m\u001b[K\n",
      "\u001b[2m[\u001b[0;34m63/f135b4\u001b[0;2m] \u001b[0;2mNFC…rget:Sham_oxy, blocking:\u001b[m])\u001b[2m |\u001b[m 2 of 2\u001b[32m ✔\u001b[m\u001b[K\n",
      "\u001b[2m[\u001b[0;34m6d/acca7a\u001b[0;2m] \u001b[0;2mNFC…DANCE:\u001b[mFILTER_DIFFTABLE\u001b[33;2m (\u001b[0;33m2\u001b[2m)\u001b[m\u001b[2m |\u001b[m 2 of 2\u001b[32m ✔\u001b[m\u001b[K\n",
      "\u001b[2m[\u001b[0;34mf7/101a96\u001b[0;2m] \u001b[0;2m\u001b[mNFC…OT_EXPLORATORY\u001b[33;2m (\u001b[0;33mcondition\u001b[2m)\u001b[m\u001b[2m |\u001b[m 1 of 1\u001b[32m ✔\u001b[m\u001b[K\n",
      "\u001b[2m[\u001b[0;34mb3/5b0202\u001b[0;2m] \u001b[0;2m\u001b[mNFC…condition_control_treated)\u001b[2m |\u001b[m 2 of 2\u001b[32m ✔\u001b[m\u001b[K\n",
      "\u001b[2m[\u001b[0;34mb7/e67df4\u001b[0;2m] \u001b[0;2mNFC…DANCE:\u001b[mSHINYNGS_APP\u001b[33;2m (\u001b[0;33mstudy\u001b[2m)\u001b[m\u001b[2m |\u001b[m 1 of 1\u001b[32m ✔\u001b[m\u001b[K\n",
      "\u001b[2m[\u001b[0;34m1a/b8ac5c\u001b[0;2m] \u001b[0;2mNFC…:\u001b[mRMARKDOWNNOTEBOOK\u001b[33;2m (\u001b[0;33mstudy\u001b[2m)\u001b[m\u001b[2m |\u001b[m 1 of 1\u001b[32m ✔\u001b[m\u001b[K\n",
      "\u001b[2m[\u001b[0;34me0/a507da\u001b[0;2m] \u001b[0;2m\u001b[mNFC…MAKE_REPORT_BUNDLE\u001b[33;2m (\u001b[0;33mstudy\u001b[2m)\u001b[m\u001b[2m |\u001b[m 1 of 1\u001b[32m ✔\u001b[m\u001b[K\n",
      "\u001b[32;1mCompleted at: 01-Oct-2025 11:44:01\n",
      "Duration    : 13m 20s\n",
      "CPU hours   : 0.4\n",
      "Succeeded   : 13\n",
      "\u001b[22;39m\u001b[K\n",
      "\n"
     ]
    }
   ],
   "source": [
    "!nextflow run nf-core/differentialabundance -r 1.5.0\\\n",
    "     --input \"samplesheet_2.csv\" \\\n",
    "     --contrasts \"data/contrasts.csv\" \\\n",
    "     --matrix \"data/salmon.merged.gene_counts.tsv\" \\\n",
    "     -profile docker,arm \\\n",
    "     --max_memory \"4.GB\" \\\n",
    "     --outdir output_differential \\\n",
    "     -resume \n",
    "     "
   ]
  },
  {
   "cell_type": "markdown",
   "metadata": {},
   "source": [
    "Explain all the parameters you set and why you set them in this way. If you used or created additional files as input, explain what they are used for."
   ]
  },
  {
   "cell_type": "markdown",
   "metadata": {},
   "source": [
    "- input \"samplesheet_2.csv\"; The pipeline needs to know which sample belongs to which biological condition, contains names and condition\n",
    "- contrasts \"data/contrasts.csv\": specifying which comparisons (contrasts) should be tested for differential abundance.\n",
    "- matrix \"data/salmon.merged.gene_counts.tsv\"; The raw input data for differential abundance analysis (from Salmon)\n",
    "- outdir output_differential \n",
    "- profile test,docker\n"
   ]
  },
  {
   "cell_type": "markdown",
   "metadata": {},
   "source": [
    "What were the outputs of the pipeline?"
   ]
  },
  {
   "cell_type": "markdown",
   "metadata": {},
   "source": []
  },
  {
   "cell_type": "markdown",
   "metadata": {},
   "source": [
    "Would you exclude any samples? If yes, which and why?"
   ]
  },
  {
   "cell_type": "markdown",
   "metadata": {},
   "source": [
    "SNI_Sal_2 and SNI_Sal_4 seem to be outliers based on the PCA. But the mad correlation plot does not suggest that these are True outliers."
   ]
  },
  {
   "cell_type": "markdown",
   "metadata": {},
   "source": [
    "How many genes were differentially expressed in each contrast? Does this confirm what the paper mentions? <br>\n",
    "For the adjusted values:"
   ]
  },
  {
   "attachments": {
    "image.png": {
     "image/png": "[encoded data removed]"
    }
   },
   "cell_type": "markdown",
   "metadata": {},
   "source": [
    "![image.png](attachment:image.png)"
   ]
  },
  {
   "cell_type": "markdown",
   "metadata": {},
   "source": [
    "The paper mentions differentially expressed genes in three brain regions : the NAc, mPFC and VTA. Briefly explain what these 3 regions are."
   ]
  },
  {
   "cell_type": "markdown",
   "metadata": {},
   "source": []
  },
  {
   "cell_type": "markdown",
   "metadata": {},
   "source": [
    "Is there anyway from the paper and the material and methods for us to know which genes are included in these regions?"
   ]
  },
  {
   "cell_type": "markdown",
   "metadata": {},
   "source": []
  },
  {
   "cell_type": "markdown",
   "metadata": {},
   "source": [
    "Once you have your list of differentially expressed genes, do you think just communicating those to the biologists would be sufficient? What does the publication state?"
   ]
  },
  {
   "cell_type": "markdown",
   "metadata": {},
   "source": [
    "Please reproduce the Venn Diagram from Figure 3, not taking into account the brain regions but just the contrasts mentionned."
   ]
  }
 ],
 "metadata": {
  "kernelspec": {
   "display_name": "Nextflow_Prak",
   "language": "python",
   "name": "myenv"
  },
  "language_info": {
   "codemirror_mode": {
    "name": "ipython",
    "version": 3
   },
   "file_extension": ".py",
   "mimetype": "text/x-python",
   "name": "python",
   "nbconvert_exporter": "python",
   "pygments_lexer": "ipython3",
   "version": "3.11.13"
  }
 },
 "nbformat": 4,
 "nbformat_minor": 2
}
