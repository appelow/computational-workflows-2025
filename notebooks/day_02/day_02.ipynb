{
 "cells": [
  {
   "cell_type": "markdown",
   "metadata": {},
   "source": [
    "# Day 2\n",
    "\n",
    "Today, we will start using nf-core pipelines to find differentially abundant genes in our dataset. \n",
    "We are using data from the following paper: https://www.nature.com/articles/s41593-023-01350-3#Sec10"
   ]
  },
  {
   "cell_type": "markdown",
   "metadata": {
    "vscode": {
     "languageId": "plaintext"
    }
   },
   "source": [
    "1. Please take some time to read through the paper and understand their approach, hypotheses and goals."
   ]
  },
  {
   "cell_type": "markdown",
   "metadata": {
    "vscode": {
     "languageId": "plaintext"
    }
   },
   "source": [
    "What was the objective of the study?"
   ]
  },
  {
   "cell_type": "markdown",
   "metadata": {},
   "source": [
    "Synthetic opioids effectively relieve acute and postoperative pain but are much less effective for chronic neuropathic pain. Long term use of opioids leads to serious side effects, such as increased pain sensitivity (hyperalgesia), physical dependence, and frequent progression to addiction, especially for chronic pain patients. The aim of this study is help manage withdrawal and pain in opioid-dependent patients.\n",
    "\n",
    "The research found robust gene expression changes in the mouse reward system (nucleus accumbens and prefrontal cortex) after both nerve injury and drug interventions. identifying the epigenetic regulators HDAC1/HDAC2 as key target. Treatment with inhibitor RBC1HI showed improved withdrawal symptoms.\n",
    "\n",
    "--> analyse transcriptomic effects"
   ]
  },
  {
   "cell_type": "markdown",
   "metadata": {
    "vscode": {
     "languageId": "plaintext"
    }
   },
   "source": [
    "What do the conditions mean?"
   ]
  },
  {
   "cell_type": "markdown",
   "metadata": {},
   "source": [
    "oxy: oxycodone (mice treated with it)\n",
    "\n",
    "\n",
    "sal: saline solution (control group)"
   ]
  },
  {
   "cell_type": "markdown",
   "metadata": {},
   "source": [
    "What do the genotypes mean?"
   ]
  },
  {
   "cell_type": "markdown",
   "metadata": {},
   "source": [
    "SNI: Speared Nerve Injury (chronic pain)\n",
    "\n",
    "\n",
    "Sham: control group, undergoes the same surgical procedures (such as anesthesia and incisions) as SNI, but without actual nerve damage or induction of chronic pain"
   ]
  },
  {
   "cell_type": "markdown",
   "metadata": {},
   "source": [
    "Imagine you are the bioinformatician in the group who conducted this study. They hand you the raw files and ask you to analyze them.\n",
    "\n",
    "What would you do?\n",
    "- Perform quality control on raw RNA-seq data (read quality, adapter trimming)\n",
    "- Align reads to the mouse reference genome and quantify gene expression\n",
    "- Normalize gene expression data to remove technical variability. E.g use quantile normalization, keep biological variation and exclude technical\n",
    "- Exploratory analysis (PCA, clustering) to check for batch effects or outlier\n",
    "\n",
    "Which groups would you compare to each other?\n",
    "- Sham-Sal vs SNI-Sal: This comparison checks baseline molecular changes caused by neuropathic pain.\n",
    "- Sham-Oxy vs Sham-Sal: Effect of oxycodone on gene expression without neuropathic pain, showing opioid effects in pain-free animals.\n",
    "- SNI-Oxy vs SNI-Sal: Effect of oxycodone in animals with neuropathic pain, showing opioid effect plus interaction with chronic pain.\n",
    "- SNI-Oxy vs Sham-Oxy: How chronic neuropathic pain modifies oxycodone response, isolating the interaction effect.\n",
    "\n",
    "Please also mention which outcome you would expect to see from each comparison."
   ]
  },
  {
   "cell_type": "markdown",
   "metadata": {},
   "source": [
    "Your group gave you a very suboptimal excel sheet (conditions_runs_oxy_project.xlsx) to get the information you need for each run they uploaded to the SRA.<br>\n",
    "So, instead of directly diving into downloading the data and starting the analysis, you first need to sort the lazy table.<br>\n",
    "Use Python and Pandas to get the table into a more sensible order.<br>\n",
    "Then, perform some overview analysis and plot the results\n",
    "1. How many samples do you have per condition?\n",
    "2. How many samples do you have per genotype?\n",
    "3. How often do you have each condition per genotype?"
   ]
  },
  {
   "cell_type": "code",
   "execution_count": null,
   "metadata": {},
   "outputs": [
    {
     "name": "stderr",
     "output_type": "stream",
     "text": [
      "/var/folders/tm/hjrdnkd97m7d0qsg6x7cv7300000gn/T/ipykernel_65305/189702353.py:8: FutureWarning: Downcasting behavior in `replace` is deprecated and will be removed in a future version. To retain the old behavior, explicitly call `result.infer_objects(copy=False)`. To opt-in to the future behavior, set `pd.set_option('future.no_silent_downcasting', True)`\n",
      "  df = df.replace(\"x\", 1) # df.replace(\"x\", True) -> used\n"
     ]
    },
    {
     "data": {
      "text/html": [
       "<div>\n",
       "<style scoped>\n",
       "    .dataframe tbody tr th:only-of-type {\n",
       "        vertical-align: middle;\n",
       "    }\n",
       "\n",
       "    .dataframe tbody tr th {\n",
       "        vertical-align: top;\n",
       "    }\n",
       "\n",
       "    .dataframe thead th {\n",
       "        text-align: right;\n",
       "    }\n",
       "</style>\n",
       "<table border=\"1\" class=\"dataframe\">\n",
       "  <thead>\n",
       "    <tr style=\"text-align: right;\">\n",
       "      <th></th>\n",
       "      <th>Run</th>\n",
       "      <th>Condition: Oxy</th>\n",
       "      <th>Genotype: SNI</th>\n",
       "    </tr>\n",
       "  </thead>\n",
       "  <tbody>\n",
       "    <tr>\n",
       "      <th>0</th>\n",
       "      <td>SRR23195505</td>\n",
       "      <td>0</td>\n",
       "      <td>1</td>\n",
       "    </tr>\n",
       "    <tr>\n",
       "      <th>1</th>\n",
       "      <td>SRR23195506</td>\n",
       "      <td>1</td>\n",
       "      <td>0</td>\n",
       "    </tr>\n",
       "    <tr>\n",
       "      <th>2</th>\n",
       "      <td>SRR23195507</td>\n",
       "      <td>0</td>\n",
       "      <td>0</td>\n",
       "    </tr>\n",
       "    <tr>\n",
       "      <th>3</th>\n",
       "      <td>SRR23195508</td>\n",
       "      <td>1</td>\n",
       "      <td>1</td>\n",
       "    </tr>\n",
       "    <tr>\n",
       "      <th>4</th>\n",
       "      <td>SRR23195509</td>\n",
       "      <td>1</td>\n",
       "      <td>1</td>\n",
       "    </tr>\n",
       "    <tr>\n",
       "      <th>5</th>\n",
       "      <td>SRR23195510</td>\n",
       "      <td>0</td>\n",
       "      <td>1</td>\n",
       "    </tr>\n",
       "    <tr>\n",
       "      <th>6</th>\n",
       "      <td>SRR23195511</td>\n",
       "      <td>1</td>\n",
       "      <td>0</td>\n",
       "    </tr>\n",
       "    <tr>\n",
       "      <th>7</th>\n",
       "      <td>SRR23195512</td>\n",
       "      <td>0</td>\n",
       "      <td>0</td>\n",
       "    </tr>\n",
       "    <tr>\n",
       "      <th>8</th>\n",
       "      <td>SRR23195513</td>\n",
       "      <td>0</td>\n",
       "      <td>1</td>\n",
       "    </tr>\n",
       "    <tr>\n",
       "      <th>9</th>\n",
       "      <td>SRR23195514</td>\n",
       "      <td>1</td>\n",
       "      <td>0</td>\n",
       "    </tr>\n",
       "    <tr>\n",
       "      <th>10</th>\n",
       "      <td>SRR23195515</td>\n",
       "      <td>0</td>\n",
       "      <td>0</td>\n",
       "    </tr>\n",
       "    <tr>\n",
       "      <th>11</th>\n",
       "      <td>SRR23195516</td>\n",
       "      <td>1</td>\n",
       "      <td>1</td>\n",
       "    </tr>\n",
       "    <tr>\n",
       "      <th>12</th>\n",
       "      <td>SRR23195517</td>\n",
       "      <td>1</td>\n",
       "      <td>1</td>\n",
       "    </tr>\n",
       "    <tr>\n",
       "      <th>13</th>\n",
       "      <td>SRR23195518</td>\n",
       "      <td>0</td>\n",
       "      <td>1</td>\n",
       "    </tr>\n",
       "    <tr>\n",
       "      <th>14</th>\n",
       "      <td>SRR23195519</td>\n",
       "      <td>1</td>\n",
       "      <td>0</td>\n",
       "    </tr>\n",
       "    <tr>\n",
       "      <th>15</th>\n",
       "      <td>SRR23195520</td>\n",
       "      <td>0</td>\n",
       "      <td>0</td>\n",
       "    </tr>\n",
       "  </tbody>\n",
       "</table>\n",
       "</div>"
      ],
      "text/plain": [
       "            Run  Condition: Oxy  Genotype: SNI\n",
       "0   SRR23195505               0              1\n",
       "1   SRR23195506               1              0\n",
       "2   SRR23195507               0              0\n",
       "3   SRR23195508               1              1\n",
       "4   SRR23195509               1              1\n",
       "5   SRR23195510               0              1\n",
       "6   SRR23195511               1              0\n",
       "7   SRR23195512               0              0\n",
       "8   SRR23195513               0              1\n",
       "9   SRR23195514               1              0\n",
       "10  SRR23195515               0              0\n",
       "11  SRR23195516               1              1\n",
       "12  SRR23195517               1              1\n",
       "13  SRR23195518               0              1\n",
       "14  SRR23195519               1              0\n",
       "15  SRR23195520               0              0"
      ]
     },
     "execution_count": 34,
     "metadata": {},
     "output_type": "execute_result"
    }
   ],
   "source": [
    "import pandas as pd\n",
    "data = pd.read_excel(\"conditions_runs_oxy_project.xlsx\")\n",
    "\n",
    "\n",
    "data.drop(columns=[\"Patient\", \"RNA-seq\", \"DNA-seq\", \"condition: Sal\", \"Genotype: Sham\"], inplace=True)\n",
    "# Convert \"x\" → 1, NaN → 0\n",
    "df = data.fillna(0) #  -> not available\n",
    "df = df.replace(\"x\", 1) #  -> used \n",
    "df"
   ]
  },
  {
   "cell_type": "code",
   "execution_count": 33,
   "metadata": {},
   "outputs": [
    {
     "name": "stdout",
     "output_type": "stream",
     "text": [
      "\n",
      "Counts for Condition: Oxy:\n",
      "Condition: Oxy\n",
      "0    8\n",
      "1    8\n",
      "Name: count, dtype: int64\n",
      "\n",
      "Counts for Genotype: SNI:\n",
      "Genotype: SNI\n",
      "1    8\n",
      "0    8\n",
      "Name: count, dtype: int64\n"
     ]
    }
   ],
   "source": [
    "# Count 0 and 1 in each column (excluding \"Run\")\n",
    "for col in df.columns[1:]:\n",
    "    print(f\"\\nCounts for {col}:\")\n",
    "    print(df[col].value_counts())"
   ]
  },
  {
   "cell_type": "markdown",
   "metadata": {},
   "source": [
    "They were so kind to also provide you with the information of the number of bases per run, so that you can know how much space the data will take on your Cluster.<br>\n",
    "Add a new column to your fancy table with this information (base_counts.csv) and sort your dataframe according to this information and the condition.\n",
    "\n",
    "Then select the 2 smallest runs from your dataset and download them from SRA (maybe an nf-core pipeline can help here?...)"
   ]
  },
  {
   "cell_type": "code",
   "execution_count": null,
   "metadata": {},
   "outputs": [],
   "source": [
    "base_counts = pd.read_csv(\"base_counts.csv\")\n",
    "base_counts\n",
    "\n",
    "full_data = pd.merge(df, base_counts)\n",
    "full_data\n"
   ]
  },
  {
   "cell_type": "code",
   "execution_count": 45,
   "metadata": {},
   "outputs": [
    {
     "data": {
      "text/html": [
       "<div>\n",
       "<style scoped>\n",
       "    .dataframe tbody tr th:only-of-type {\n",
       "        vertical-align: middle;\n",
       "    }\n",
       "\n",
       "    .dataframe tbody tr th {\n",
       "        vertical-align: top;\n",
       "    }\n",
       "\n",
       "    .dataframe thead th {\n",
       "        text-align: right;\n",
       "    }\n",
       "</style>\n",
       "<table border=\"1\" class=\"dataframe\">\n",
       "  <thead>\n",
       "    <tr style=\"text-align: right;\">\n",
       "      <th></th>\n",
       "      <th>Run</th>\n",
       "      <th>Condition: Oxy</th>\n",
       "      <th>Genotype: SNI</th>\n",
       "      <th>Bases</th>\n",
       "    </tr>\n",
       "  </thead>\n",
       "  <tbody>\n",
       "    <tr>\n",
       "      <th>11</th>\n",
       "      <td>SRR23195516</td>\n",
       "      <td>1</td>\n",
       "      <td>1</td>\n",
       "      <td>6203117700</td>\n",
       "    </tr>\n",
       "    <tr>\n",
       "      <th>6</th>\n",
       "      <td>SRR23195511</td>\n",
       "      <td>1</td>\n",
       "      <td>0</td>\n",
       "      <td>6456390900</td>\n",
       "    </tr>\n",
       "    <tr>\n",
       "      <th>12</th>\n",
       "      <td>SRR23195517</td>\n",
       "      <td>1</td>\n",
       "      <td>1</td>\n",
       "      <td>6863840400</td>\n",
       "    </tr>\n",
       "    <tr>\n",
       "      <th>0</th>\n",
       "      <td>SRR23195505</td>\n",
       "      <td>0</td>\n",
       "      <td>1</td>\n",
       "      <td>6922564500</td>\n",
       "    </tr>\n",
       "    <tr>\n",
       "      <th>3</th>\n",
       "      <td>SRR23195508</td>\n",
       "      <td>1</td>\n",
       "      <td>1</td>\n",
       "      <td>6927786900</td>\n",
       "    </tr>\n",
       "    <tr>\n",
       "      <th>14</th>\n",
       "      <td>SRR23195519</td>\n",
       "      <td>1</td>\n",
       "      <td>0</td>\n",
       "      <td>6996050100</td>\n",
       "    </tr>\n",
       "    <tr>\n",
       "      <th>4</th>\n",
       "      <td>SRR23195509</td>\n",
       "      <td>1</td>\n",
       "      <td>1</td>\n",
       "      <td>7003550100</td>\n",
       "    </tr>\n",
       "    <tr>\n",
       "      <th>9</th>\n",
       "      <td>SRR23195514</td>\n",
       "      <td>1</td>\n",
       "      <td>0</td>\n",
       "      <td>7226808600</td>\n",
       "    </tr>\n",
       "    <tr>\n",
       "      <th>5</th>\n",
       "      <td>SRR23195510</td>\n",
       "      <td>0</td>\n",
       "      <td>1</td>\n",
       "      <td>7377388500</td>\n",
       "    </tr>\n",
       "    <tr>\n",
       "      <th>7</th>\n",
       "      <td>SRR23195512</td>\n",
       "      <td>0</td>\n",
       "      <td>0</td>\n",
       "      <td>7462857900</td>\n",
       "    </tr>\n",
       "    <tr>\n",
       "      <th>15</th>\n",
       "      <td>SRR23195520</td>\n",
       "      <td>0</td>\n",
       "      <td>0</td>\n",
       "      <td>7858146000</td>\n",
       "    </tr>\n",
       "    <tr>\n",
       "      <th>1</th>\n",
       "      <td>SRR23195506</td>\n",
       "      <td>1</td>\n",
       "      <td>0</td>\n",
       "      <td>7859530800</td>\n",
       "    </tr>\n",
       "    <tr>\n",
       "      <th>13</th>\n",
       "      <td>SRR23195518</td>\n",
       "      <td>0</td>\n",
       "      <td>1</td>\n",
       "      <td>7908500400</td>\n",
       "    </tr>\n",
       "    <tr>\n",
       "      <th>2</th>\n",
       "      <td>SRR23195507</td>\n",
       "      <td>0</td>\n",
       "      <td>0</td>\n",
       "      <td>8063298900</td>\n",
       "    </tr>\n",
       "    <tr>\n",
       "      <th>8</th>\n",
       "      <td>SRR23195513</td>\n",
       "      <td>0</td>\n",
       "      <td>1</td>\n",
       "      <td>8099181600</td>\n",
       "    </tr>\n",
       "    <tr>\n",
       "      <th>10</th>\n",
       "      <td>SRR23195515</td>\n",
       "      <td>0</td>\n",
       "      <td>0</td>\n",
       "      <td>8169101700</td>\n",
       "    </tr>\n",
       "  </tbody>\n",
       "</table>\n",
       "</div>"
      ],
      "text/plain": [
       "            Run  Condition: Oxy  Genotype: SNI       Bases\n",
       "11  SRR23195516               1              1  6203117700\n",
       "6   SRR23195511               1              0  6456390900\n",
       "12  SRR23195517               1              1  6863840400\n",
       "0   SRR23195505               0              1  6922564500\n",
       "3   SRR23195508               1              1  6927786900\n",
       "14  SRR23195519               1              0  6996050100\n",
       "4   SRR23195509               1              1  7003550100\n",
       "9   SRR23195514               1              0  7226808600\n",
       "5   SRR23195510               0              1  7377388500\n",
       "7   SRR23195512               0              0  7462857900\n",
       "15  SRR23195520               0              0  7858146000\n",
       "1   SRR23195506               1              0  7859530800\n",
       "13  SRR23195518               0              1  7908500400\n",
       "2   SRR23195507               0              0  8063298900\n",
       "8   SRR23195513               0              1  8099181600\n",
       "10  SRR23195515               0              0  8169101700"
      ]
     },
     "execution_count": 45,
     "metadata": {},
     "output_type": "execute_result"
    }
   ],
   "source": [
    "full_data.sort_values(by =\"Bases\", ascending = 1)"
   ]
  },
  {
   "cell_type": "code",
   "execution_count": null,
   "metadata": {},
   "outputs": [],
   "source": []
  },
  {
   "cell_type": "markdown",
   "metadata": {},
   "source": [
    "While your files are downloading, get back to the paper and explain how you would try to reproduce the analysis.<br>\n",
    "When you are done with this shout, so we can discuss the different ideas."
   ]
  }
 ],
 "metadata": {
  "kernelspec": {
   "display_name": "Nextflow_Prak",
   "language": "python",
   "name": "myenv"
  },
  "language_info": {
   "codemirror_mode": {
    "name": "ipython",
    "version": 3
   },
   "file_extension": ".py",
   "mimetype": "text/x-python",
   "name": "python",
   "nbconvert_exporter": "python",
   "pygments_lexer": "ipython3",
   "version": "3.11.13"
  }
 },
 "nbformat": 4,
 "nbformat_minor": 2
}
