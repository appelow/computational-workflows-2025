{
 "cells": [
  {
   "cell_type": "markdown",
   "metadata": {},
   "source": [
    "# Day 6 - Nextflow Basics: Introduction to channels and operators"
   ]
  },
  {
   "cell_type": "markdown",
   "metadata": {},
   "source": [
    "Today, we will begin exploring Nextflow, the programming language that powers the advanced nf-core pipelines you worked with last week. Your task is to dive into the core concepts and syntax of Nextflow, understanding how this language enables the development of scalable and reproducible workflows.\n",
    "\n",
    "Nextflow works quite differently from traditional programming languages like Python or Java that you may already be familiar with. To get started, it is essential to understand the foundational concepts that set Nextflow apart."
   ]
  },
  {
   "cell_type": "markdown",
   "metadata": {},
   "source": [
    "### 1. Describe the concept of Workflows, Processes and Channels we deal with in Nextflow"
   ]
  },
  {
   "cell_type": "markdown",
   "metadata": {},
   "source": [
    "Workflows: A workflow defines how processes are orchestrated and connected via channels.\n",
    "It’s essentially the pipeline logic, it connects processes and channnels.\n",
    "\n",
    "\n",
    "Processes: A process is the basic computational unit in Nextflow, representing a task. Each process has Inputs, Outputs, and a Script block. Processes can be executed independently, parallelization is possible e.g via Docker.\n",
    "\n",
    "\n",
    "Channels: Are data streams that connect processes. It acts as a queue through which data items (files, values, tuples, etc.) flow."
   ]
  },
  {
   "cell_type": "markdown",
   "metadata": {},
   "source": [
    "## Introduction to channels\n",
    "\n",
    "Please refer to the file  $\\texttt{channels\\_intro.nf}$ for the next exercises. Then run the code with the respective flag here below. "
   ]
  },
  {
   "cell_type": "code",
   "execution_count": 4,
   "metadata": {},
   "outputs": [
    {
     "name": "stdout",
     "output_type": "stream",
     "text": [
      "\n",
      "\u001b[1m\u001b[38;5;232m\u001b[48;5;43m N E X T F L O W \u001b[0;2m  ~  \u001b[mversion 25.04.7\u001b[m\n",
      "\u001b[K\n",
      "Launching\u001b[35m `channels_intro.nf` \u001b[0;2m[\u001b[0;1;36msick_austin\u001b[0;2m] DSL2 - \u001b[36mrevision: \u001b[0;36mcd3c6c62bb\u001b[m\n",
      "\u001b[K\n",
      "[1, 2, 3, 4, 5, 6, 7, 8, 9, 10]\n"
     ]
    }
   ],
   "source": [
    "# Task 1 - Create a channel that enumerates the numbers from 1 to 10\n",
    "!nextflow run channels_intro.nf --step 1"
   ]
  },
  {
   "cell_type": "code",
   "execution_count": 17,
   "metadata": {},
   "outputs": [
    {
     "name": "stdout",
     "output_type": "stream",
     "text": [
      "\n",
      "\u001b[1m\u001b[38;5;232m\u001b[48;5;43m N E X T F L O W \u001b[0;2m  ~  \u001b[mversion 25.04.7\u001b[m\n",
      "\u001b[K\n",
      "Launching\u001b[35m `channels_intro.nf` \u001b[0;2m[\u001b[0;1;36mecstatic_liskov\u001b[0;2m] DSL2 - \u001b[36mrevision: \u001b[0;36mb7d9177531\u001b[m\n",
      "\u001b[K\n",
      "A\n",
      "B\n",
      "C\n",
      "D\n",
      "E\n",
      "F\n",
      "G\n",
      "H\n",
      "I\n",
      "J\n",
      "K\n",
      "L\n",
      "M\n",
      "N\n",
      "O\n",
      "P\n",
      "Q\n",
      "R\n",
      "S\n",
      "T\n",
      "U\n",
      "V\n",
      "W\n",
      "X\n",
      "Y\n",
      "Z\n"
     ]
    }
   ],
   "source": [
    "# Task 2 - Create a channel that gives out the entire alphabet\n",
    "!nextflow run channels_intro.nf --step 2"
   ]
  },
  {
   "cell_type": "code",
   "execution_count": 18,
   "metadata": {},
   "outputs": [
    {
     "name": "stdout",
     "output_type": "stream",
     "text": [
      "\n",
      "\u001b[1m\u001b[38;5;232m\u001b[48;5;43m N E X T F L O W \u001b[0;2m  ~  \u001b[mversion 25.04.7\u001b[m\n",
      "\u001b[K\n",
      "Launching\u001b[35m `channels_intro.nf` \u001b[0;2m[\u001b[0;1;36madmiring_heisenberg\u001b[0;2m] DSL2 - \u001b[36mrevision: \u001b[0;36ma5b5c0b8e4\u001b[m\n",
      "\u001b[K\n",
      "/Users/leoniewehnert/Desktop/computational-workflows-2025/notebooks/day_04/files_dir/SRR5_2.fq\n",
      "/Users/leoniewehnert/Desktop/computational-workflows-2025/notebooks/day_04/files_dir/SRR5_2.fq\n",
      "/Users/leoniewehnert/Desktop/computational-workflows-2025/notebooks/day_04/files_dir/fastq5_2.fq\n",
      "/Users/leoniewehnert/Desktop/computational-workflows-2025/notebooks/day_04/files_dir/fastq5_2.fq\n",
      "/Users/leoniewehnert/Desktop/computational-workflows-2025/notebooks/day_04/files_dir/file_4.txt\n",
      "/Users/leoniewehnert/Desktop/computational-workflows-2025/notebooks/day_04/files_dir/file_4.txt\n",
      "/Users/leoniewehnert/Desktop/computational-workflows-2025/notebooks/day_04/files_dir/file_5.txt\n",
      "/Users/leoniewehnert/Desktop/computational-workflows-2025/notebooks/day_04/files_dir/file_5.txt\n",
      "/Users/leoniewehnert/Desktop/computational-workflows-2025/notebooks/day_04/files_dir/file_1.txt\n",
      "/Users/leoniewehnert/Desktop/computational-workflows-2025/notebooks/day_04/files_dir/file_1.txt\n",
      "/Users/leoniewehnert/Desktop/computational-workflows-2025/notebooks/day_04/files_dir/.hidden_2.txt\n",
      "/Users/leoniewehnert/Desktop/computational-workflows-2025/notebooks/day_04/files_dir/.hidden_2.txt\n",
      "/Users/leoniewehnert/Desktop/computational-workflows-2025/notebooks/day_04/files_dir/file_2.txt\n",
      "/Users/leoniewehnert/Desktop/computational-workflows-2025/notebooks/day_04/files_dir/file_2.txt\n",
      "/Users/leoniewehnert/Desktop/computational-workflows-2025/notebooks/day_04/files_dir/fastq.fq\n",
      "/Users/leoniewehnert/Desktop/computational-workflows-2025/notebooks/day_04/files_dir/fastq.fq\n",
      "/Users/leoniewehnert/Desktop/computational-workflows-2025/notebooks/day_04/files_dir/fastq4_2.fq\n",
      "/Users/leoniewehnert/Desktop/computational-workflows-2025/notebooks/day_04/files_dir/fastq4_2.fq\n",
      "/Users/leoniewehnert/Desktop/computational-workflows-2025/notebooks/day_04/files_dir/SRR4_2.fq\n",
      "/Users/leoniewehnert/Desktop/computational-workflows-2025/notebooks/day_04/files_dir/SRR4_2.fq\n",
      "/Users/leoniewehnert/Desktop/computational-workflows-2025/notebooks/day_04/files_dir/file_3.txt\n",
      "/Users/leoniewehnert/Desktop/computational-workflows-2025/notebooks/day_04/files_dir/file_3.txt\n",
      "/Users/leoniewehnert/Desktop/computational-workflows-2025/notebooks/day_04/files_dir/.hidden_1.txt\n",
      "/Users/leoniewehnert/Desktop/computational-workflows-2025/notebooks/day_04/files_dir/.hidden_1.txt\n",
      "/Users/leoniewehnert/Desktop/computational-workflows-2025/notebooks/day_04/files_dir/SRR.fq\n",
      "/Users/leoniewehnert/Desktop/computational-workflows-2025/notebooks/day_04/files_dir/SRR.fq\n",
      "/Users/leoniewehnert/Desktop/computational-workflows-2025/notebooks/day_04/files_dir/SRR3_2.fq\n",
      "/Users/leoniewehnert/Desktop/computational-workflows-2025/notebooks/day_04/files_dir/SRR3_2.fq\n",
      "/Users/leoniewehnert/Desktop/computational-workflows-2025/notebooks/day_04/files_dir/fastq3_2.fq\n",
      "/Users/leoniewehnert/Desktop/computational-workflows-2025/notebooks/day_04/files_dir/fastq3_2.fq\n",
      "/Users/leoniewehnert/Desktop/computational-workflows-2025/notebooks/day_04/files_dir/fastq_1.fq\n",
      "/Users/leoniewehnert/Desktop/computational-workflows-2025/notebooks/day_04/files_dir/fastq_1.fq\n",
      "/Users/leoniewehnert/Desktop/computational-workflows-2025/notebooks/day_04/files_dir/fastq2_2.fq\n",
      "/Users/leoniewehnert/Desktop/computational-workflows-2025/notebooks/day_04/files_dir/SRR2_2.fq\n",
      "/Users/leoniewehnert/Desktop/computational-workflows-2025/notebooks/day_04/files_dir/fastq2_2.fq\n",
      "/Users/leoniewehnert/Desktop/computational-workflows-2025/notebooks/day_04/files_dir/fastq1_1.fq\n",
      "/Users/leoniewehnert/Desktop/computational-workflows-2025/notebooks/day_04/files_dir/SRR2_2.fq\n",
      "/Users/leoniewehnert/Desktop/computational-workflows-2025/notebooks/day_04/files_dir/fastq1_1.fq\n",
      "/Users/leoniewehnert/Desktop/computational-workflows-2025/notebooks/day_04/files_dir/SRR1_1.fq\n",
      "/Users/leoniewehnert/Desktop/computational-workflows-2025/notebooks/day_04/files_dir/SRR1_1.fq\n",
      "/Users/leoniewehnert/Desktop/computational-workflows-2025/notebooks/day_04/files_dir/fastq_2.fq\n",
      "/Users/leoniewehnert/Desktop/computational-workflows-2025/notebooks/day_04/files_dir/fastq_2.fq\n",
      "/Users/leoniewehnert/Desktop/computational-workflows-2025/notebooks/day_04/files_dir/fastq2_1.fq\n",
      "/Users/leoniewehnert/Desktop/computational-workflows-2025/notebooks/day_04/files_dir/fastq2_1.fq\n",
      "/Users/leoniewehnert/Desktop/computational-workflows-2025/notebooks/day_04/files_dir/SRR2_1.fq\n",
      "/Users/leoniewehnert/Desktop/computational-workflows-2025/notebooks/day_04/files_dir/SRR2_1.fq\n",
      "/Users/leoniewehnert/Desktop/computational-workflows-2025/notebooks/day_04/files_dir/fastq1_2.fq\n",
      "/Users/leoniewehnert/Desktop/computational-workflows-2025/notebooks/day_04/files_dir/fastq1_2.fq\n",
      "/Users/leoniewehnert/Desktop/computational-workflows-2025/notebooks/day_04/files_dir/SRR1_2.fq\n",
      "/Users/leoniewehnert/Desktop/computational-workflows-2025/notebooks/day_04/files_dir/SRR1_2.fq\n",
      "/Users/leoniewehnert/Desktop/computational-workflows-2025/notebooks/day_04/files_dir/SRR3_1.fq\n",
      "/Users/leoniewehnert/Desktop/computational-workflows-2025/notebooks/day_04/files_dir/SRR3_1.fq\n",
      "/Users/leoniewehnert/Desktop/computational-workflows-2025/notebooks/day_04/files_dir/fastq3_1.fq\n",
      "/Users/leoniewehnert/Desktop/computational-workflows-2025/notebooks/day_04/files_dir/fastq3_1.fq\n",
      "/Users/leoniewehnert/Desktop/computational-workflows-2025/notebooks/day_04/files_dir/fastq4_1.fq\n",
      "/Users/leoniewehnert/Desktop/computational-workflows-2025/notebooks/day_04/files_dir/fastq4_1.fq\n",
      "/Users/leoniewehnert/Desktop/computational-workflows-2025/notebooks/day_04/files_dir/SRR4_1.fq\n",
      "/Users/leoniewehnert/Desktop/computational-workflows-2025/notebooks/day_04/files_dir/SRR4_1.fq\n",
      "/Users/leoniewehnert/Desktop/computational-workflows-2025/notebooks/day_04/files_dir/SRR5_1.fq\n",
      "/Users/leoniewehnert/Desktop/computational-workflows-2025/notebooks/day_04/files_dir/SRR5_1.fq\n",
      "/Users/leoniewehnert/Desktop/computational-workflows-2025/notebooks/day_04/files_dir/fastq5_1.fq\n",
      "/Users/leoniewehnert/Desktop/computational-workflows-2025/notebooks/day_04/files_dir/fastq5_1.fq\n"
     ]
    }
   ],
   "source": [
    "# Task 3 - Create a channel that includes all files in the \"files_dir\" directory\n",
    "!nextflow run channels_intro.nf --step 3\n"
   ]
  },
  {
   "cell_type": "code",
   "execution_count": 19,
   "metadata": {},
   "outputs": [
    {
     "name": "stdout",
     "output_type": "stream",
     "text": [
      "\n",
      "\u001b[1m\u001b[38;5;232m\u001b[48;5;43m N E X T F L O W \u001b[0;2m  ~  \u001b[mversion 25.04.7\u001b[m\n",
      "\u001b[K\n",
      "Launching\u001b[35m `channels_intro.nf` \u001b[0;2m[\u001b[0;1;36mreverent_swartz\u001b[0;2m] DSL2 - \u001b[36mrevision: \u001b[0;36ma5b5c0b8e4\u001b[m\n",
      "\u001b[K\n",
      "/Users/leoniewehnert/Desktop/computational-workflows-2025/notebooks/day_04/files_dir/file_4.txt\n",
      "/Users/leoniewehnert/Desktop/computational-workflows-2025/notebooks/day_04/files_dir/file_5.txt\n",
      "/Users/leoniewehnert/Desktop/computational-workflows-2025/notebooks/day_04/files_dir/file_1.txt\n",
      "/Users/leoniewehnert/Desktop/computational-workflows-2025/notebooks/day_04/files_dir/file_2.txt\n",
      "/Users/leoniewehnert/Desktop/computational-workflows-2025/notebooks/day_04/files_dir/file_3.txt\n"
     ]
    }
   ],
   "source": [
    "# Task 4 - Create a channel that includes all TXT files in the \"files_dir\" directory\n",
    "!nextflow run channels_intro.nf --step 4"
   ]
  },
  {
   "cell_type": "code",
   "execution_count": 20,
   "metadata": {},
   "outputs": [
    {
     "name": "stdout",
     "output_type": "stream",
     "text": [
      "\n",
      "\u001b[1m\u001b[38;5;232m\u001b[48;5;43m N E X T F L O W \u001b[0;2m  ~  \u001b[mversion 25.04.7\u001b[m\n",
      "\u001b[K\n",
      "Launching\u001b[35m `channels_intro.nf` \u001b[0;2m[\u001b[0;1;36mloquacious_williams\u001b[0;2m] DSL2 - \u001b[36mrevision: \u001b[0;36maee46e7348\u001b[m\n",
      "\u001b[K\n",
      "/Users/leoniewehnert/Desktop/computational-workflows-2025/notebooks/day_04/files_dir/fastq_1.fq\n",
      "/Users/leoniewehnert/Desktop/computational-workflows-2025/notebooks/day_04/files_dir/fastq_1.fq\n"
     ]
    }
   ],
   "source": [
    "# Task 5 - Create a channel that includes the files \"fastq_1.fq\" and \"fastq_2.fq\" in the \"files_dir\" directory\n",
    "!nextflow run channels_intro.nf --step 5"
   ]
  },
  {
   "cell_type": "code",
   "execution_count": 21,
   "metadata": {},
   "outputs": [
    {
     "name": "stdout",
     "output_type": "stream",
     "text": [
      "\n",
      "\u001b[1m\u001b[38;5;232m\u001b[48;5;43m N E X T F L O W \u001b[0;2m  ~  \u001b[mversion 25.04.7\u001b[m\n",
      "\u001b[K\n",
      "Launching\u001b[35m `channels_intro.nf` \u001b[0;2m[\u001b[0;1;36minfallible_neumann\u001b[0;2m] DSL2 - \u001b[36mrevision: \u001b[0;36m1ffd984a68\u001b[m\n",
      "\u001b[K\n",
      "hidden are already included with hideen:tue\n"
     ]
    }
   ],
   "source": [
    "# Task 6 - go back to the time when you included all files. Are you sure that really ALL files are included? If not, how can you include them?\n",
    "!nextflow run channels_intro.nf --step 6"
   ]
  },
  {
   "cell_type": "code",
   "execution_count": 23,
   "metadata": {},
   "outputs": [
    {
     "name": "stdout",
     "output_type": "stream",
     "text": [
      "\n",
      "\u001b[1m\u001b[38;5;232m\u001b[48;5;43m N E X T F L O W \u001b[0;2m  ~  \u001b[mversion 25.04.7\u001b[m\n",
      "\u001b[K\n",
      "Launching\u001b[35m `channels_intro.nf` \u001b[0;2m[\u001b[0;1;36mstoic_mcnulty\u001b[0;2m] DSL2 - \u001b[36mrevision: \u001b[0;36mfd30b8d423\u001b[m\n",
      "\u001b[K\n",
      "[fastq, [/Users/leoniewehnert/Desktop/computational-workflows-2025/notebooks/day_04/files_dir/fastq_1.fq, /Users/leoniewehnert/Desktop/computational-workflows-2025/notebooks/day_04/files_dir/fastq_2.fq]]\n",
      "[fastq2, [/Users/leoniewehnert/Desktop/computational-workflows-2025/notebooks/day_04/files_dir/fastq2_1.fq, /Users/leoniewehnert/Desktop/computational-workflows-2025/notebooks/day_04/files_dir/fastq2_2.fq]]\n",
      "[SRR2, [/Users/leoniewehnert/Desktop/computational-workflows-2025/notebooks/day_04/files_dir/SRR2_1.fq, /Users/leoniewehnert/Desktop/computational-workflows-2025/notebooks/day_04/files_dir/SRR2_2.fq]]\n",
      "[fastq1, [/Users/leoniewehnert/Desktop/computational-workflows-2025/notebooks/day_04/files_dir/fastq1_1.fq, /Users/leoniewehnert/Desktop/computational-workflows-2025/notebooks/day_04/files_dir/fastq1_2.fq]]\n",
      "[SRR1, [/Users/leoniewehnert/Desktop/computational-workflows-2025/notebooks/day_04/files_dir/SRR1_1.fq, /Users/leoniewehnert/Desktop/computational-workflows-2025/notebooks/day_04/files_dir/SRR1_2.fq]]\n",
      "[SRR3, [/Users/leoniewehnert/Desktop/computational-workflows-2025/notebooks/day_04/files_dir/SRR3_1.fq, /Users/leoniewehnert/Desktop/computational-workflows-2025/notebooks/day_04/files_dir/SRR3_2.fq]]\n",
      "[fastq3, [/Users/leoniewehnert/Desktop/computational-workflows-2025/notebooks/day_04/files_dir/fastq3_1.fq, /Users/leoniewehnert/Desktop/computational-workflows-2025/notebooks/day_04/files_dir/fastq3_2.fq]]\n",
      "[fastq4, [/Users/leoniewehnert/Desktop/computational-workflows-2025/notebooks/day_04/files_dir/fastq4_1.fq, /Users/leoniewehnert/Desktop/computational-workflows-2025/notebooks/day_04/files_dir/fastq4_2.fq]]\n",
      "[SRR4, [/Users/leoniewehnert/Desktop/computational-workflows-2025/notebooks/day_04/files_dir/SRR4_1.fq, /Users/leoniewehnert/Desktop/computational-workflows-2025/notebooks/day_04/files_dir/SRR4_2.fq]]\n",
      "[SRR5, [/Users/leoniewehnert/Desktop/computational-workflows-2025/notebooks/day_04/files_dir/SRR5_1.fq, /Users/leoniewehnert/Desktop/computational-workflows-2025/notebooks/day_04/files_dir/SRR5_2.fq]]\n",
      "[fastq5, [/Users/leoniewehnert/Desktop/computational-workflows-2025/notebooks/day_04/files_dir/fastq5_1.fq, /Users/leoniewehnert/Desktop/computational-workflows-2025/notebooks/day_04/files_dir/fastq5_2.fq]]\n"
     ]
    }
   ],
   "source": [
    "# Task 7 - get all filepairs in the \"files_dir\" directory\n",
    "!nextflow run channels_intro.nf --step 7"
   ]
  },
  {
   "cell_type": "markdown",
   "metadata": {},
   "source": [
    "## Now that you have a solid understanding of the basic concepts of channels in Nextflow, it’s time to experiment and see how they work in practice."
   ]
  },
  {
   "cell_type": "markdown",
   "metadata": {},
   "source": [
    "To do so, Nextflow has the concept of Operators to give and pass information inbetween channels.\n",
    "\n",
    "Please answer the questions in $\\texttt{basic\\_channel\\_operations.nf}$ and run the code here. "
   ]
  },
  {
   "cell_type": "code",
   "execution_count": 26,
   "metadata": {},
   "outputs": [
    {
     "name": "stdout",
     "output_type": "stream",
     "text": [
      "\n",
      "\u001b[1m\u001b[38;5;232m\u001b[48;5;43m N E X T F L O W \u001b[0;2m  ~  \u001b[mversion 25.04.7\u001b[m\n",
      "\u001b[K\n",
      "Launching\u001b[35m `basic_channel_operations.nf` \u001b[0;2m[\u001b[0;1;36mdesperate_yalow\u001b[0;2m] DSL2 - \u001b[36mrevision: \u001b[0;36mc8a597c056\u001b[m\n",
      "\u001b[K\n",
      "1\n"
     ]
    }
   ],
   "source": [
    "# Task 1 - Extract the first item from the channel\n",
    "!nextflow run basic_channel_operations.nf --step 1"
   ]
  },
  {
   "cell_type": "code",
   "execution_count": 27,
   "metadata": {},
   "outputs": [
    {
     "name": "stdout",
     "output_type": "stream",
     "text": [
      "\n",
      "\u001b[1m\u001b[38;5;232m\u001b[48;5;43m N E X T F L O W \u001b[0;2m  ~  \u001b[mversion 25.04.7\u001b[m\n",
      "\u001b[K\n",
      "Launching\u001b[35m `basic_channel_operations.nf` \u001b[0;2m[\u001b[0;1;36mdetermined_meninsky\u001b[0;2m] DSL2 - \u001b[36mrevision: \u001b[0;36mfd253cd5a6\u001b[m\n",
      "\u001b[K\n",
      "3\n"
     ]
    }
   ],
   "source": [
    "# Task 2 - Extract the last item from the channel\n",
    "!nextflow run basic_channel_operations.nf --step 2"
   ]
  },
  {
   "cell_type": "code",
   "execution_count": 30,
   "metadata": {},
   "outputs": [
    {
     "name": "stdout",
     "output_type": "stream",
     "text": [
      "\n",
      "\u001b[1m\u001b[38;5;232m\u001b[48;5;43m N E X T F L O W \u001b[0;2m  ~  \u001b[mversion 25.04.7\u001b[m\n",
      "\u001b[K\n",
      "Launching\u001b[35m `basic_channel_operations.nf` \u001b[0;2m[\u001b[0;1;36mcurious_yonath\u001b[0;2m] DSL2 - \u001b[36mrevision: \u001b[0;36m16834e33b8\u001b[m\n",
      "\u001b[K\n",
      "1\n",
      "2\n"
     ]
    }
   ],
   "source": [
    "# Task 3 - Use an operator to extract the first two items from the channel\n",
    "!nextflow run basic_channel_operations.nf --step 3"
   ]
  },
  {
   "cell_type": "code",
   "execution_count": 32,
   "metadata": {},
   "outputs": [
    {
     "name": "stdout",
     "output_type": "stream",
     "text": [
      "\n",
      "\u001b[1m\u001b[38;5;232m\u001b[48;5;43m N E X T F L O W \u001b[0;2m  ~  \u001b[mversion 25.04.7\u001b[m\n",
      "\u001b[K\n",
      "Launching\u001b[35m `basic_channel_operations.nf` \u001b[0;2m[\u001b[0;1;36mhigh_williams\u001b[0;2m] DSL2 - \u001b[36mrevision: \u001b[0;36me667b7c41e\u001b[m\n",
      "\u001b[K\n",
      "4\n",
      "9\n",
      "16\n"
     ]
    }
   ],
   "source": [
    "# Task 4 - Return the squared values of the channel\n",
    "!nextflow run basic_channel_operations.nf --step 4"
   ]
  },
  {
   "cell_type": "code",
   "execution_count": 34,
   "metadata": {},
   "outputs": [
    {
     "name": "stdout",
     "output_type": "stream",
     "text": [
      "\n",
      "\u001b[1m\u001b[38;5;232m\u001b[48;5;43m N E X T F L O W \u001b[0;2m  ~  \u001b[mversion 25.04.7\u001b[m\n",
      "\u001b[K\n",
      "Launching\u001b[35m `basic_channel_operations.nf` \u001b[0;2m[\u001b[0;1;36mdistraught_engelbart\u001b[0;2m] DSL2 - \u001b[36mrevision: \u001b[0;36m5b41ddbc77\u001b[m\n",
      "\u001b[K\n",
      "4\n",
      "9\n"
     ]
    }
   ],
   "source": [
    "# Task 5 - Remember the previous task where you squared the values of the channel. Now, extract the first two items from the squared channel\n",
    "!nextflow run basic_channel_operations.nf --step 5"
   ]
  },
  {
   "cell_type": "code",
   "execution_count": 39,
   "metadata": {},
   "outputs": [
    {
     "name": "stdout",
     "output_type": "stream",
     "text": [
      "\n",
      "\u001b[1m\u001b[38;5;232m\u001b[48;5;43m N E X T F L O W \u001b[0;2m  ~  \u001b[mversion 25.04.7\u001b[m\n",
      "\u001b[K\n",
      "Launching\u001b[35m `basic_channel_operations.nf` \u001b[0;2m[\u001b[0;1;36mextravagant_fermat\u001b[0;2m] DSL2 - \u001b[36mrevision: \u001b[0;36mb1068541b4\u001b[m\n",
      "\u001b[K\n",
      "[Swift, Taylor]\n"
     ]
    }
   ],
   "source": [
    "# Task 6 - Remember when you used bash to reverse the output? Try to use map and Groovy to reverse the output\n",
    "!nextflow run basic_channel_operations.nf --step 6"
   ]
  },
  {
   "cell_type": "code",
   "execution_count": 43,
   "metadata": {},
   "outputs": [
    {
     "name": "stdout",
     "output_type": "stream",
     "text": [
      "\n",
      "\u001b[1m\u001b[38;5;232m\u001b[48;5;43m N E X T F L O W \u001b[0;2m  ~  \u001b[mversion 25.04.7\u001b[m\n",
      "\u001b[K\n",
      "Launching\u001b[35m `basic_channel_operations.nf` \u001b[0;2m[\u001b[0;1;36mdistracted_maxwell\u001b[0;2m] DSL2 - \u001b[36mrevision: \u001b[0;36m631436c772\u001b[m\n",
      "\u001b[K\n",
      "[SRR5_2.fq, /Users/leoniewehnert/Desktop/computational-workflows-2025/notebooks/day_04/files_dir/SRR5_2.fq]\n",
      "[fastq5_2.fq, /Users/leoniewehnert/Desktop/computational-workflows-2025/notebooks/day_04/files_dir/fastq5_2.fq]\n",
      "[fastq.fq, /Users/leoniewehnert/Desktop/computational-workflows-2025/notebooks/day_04/files_dir/fastq.fq]\n",
      "[fastq4_2.fq, /Users/leoniewehnert/Desktop/computational-workflows-2025/notebooks/day_04/files_dir/fastq4_2.fq]\n",
      "[SRR4_2.fq, /Users/leoniewehnert/Desktop/computational-workflows-2025/notebooks/day_04/files_dir/SRR4_2.fq]\n",
      "[SRR.fq, /Users/leoniewehnert/Desktop/computational-workflows-2025/notebooks/day_04/files_dir/SRR.fq]\n",
      "[SRR3_2.fq, /Users/leoniewehnert/Desktop/computational-workflows-2025/notebooks/day_04/files_dir/SRR3_2.fq]\n",
      "[fastq3_2.fq, /Users/leoniewehnert/Desktop/computational-workflows-2025/notebooks/day_04/files_dir/fastq3_2.fq]\n",
      "[fastq_1.fq, /Users/leoniewehnert/Desktop/computational-workflows-2025/notebooks/day_04/files_dir/fastq_1.fq]\n",
      "[fastq2_2.fq, /Users/leoniewehnert/Desktop/computational-workflows-2025/notebooks/day_04/files_dir/fastq2_2.fq]\n",
      "[SRR2_2.fq, /Users/leoniewehnert/Desktop/computational-workflows-2025/notebooks/day_04/files_dir/SRR2_2.fq]\n",
      "[fastq1_1.fq, /Users/leoniewehnert/Desktop/computational-workflows-2025/notebooks/day_04/files_dir/fastq1_1.fq]\n",
      "[SRR1_1.fq, /Users/leoniewehnert/Desktop/computational-workflows-2025/notebooks/day_04/files_dir/SRR1_1.fq]\n",
      "[fastq_2.fq, /Users/leoniewehnert/Desktop/computational-workflows-2025/notebooks/day_04/files_dir/fastq_2.fq]\n",
      "[fastq2_1.fq, /Users/leoniewehnert/Desktop/computational-workflows-2025/notebooks/day_04/files_dir/fastq2_1.fq]\n",
      "[SRR2_1.fq, /Users/leoniewehnert/Desktop/computational-workflows-2025/notebooks/day_04/files_dir/SRR2_1.fq]\n",
      "[fastq1_2.fq, /Users/leoniewehnert/Desktop/computational-workflows-2025/notebooks/day_04/files_dir/fastq1_2.fq]\n",
      "[SRR1_2.fq, /Users/leoniewehnert/Desktop/computational-workflows-2025/notebooks/day_04/files_dir/SRR1_2.fq]\n",
      "[SRR3_1.fq, /Users/leoniewehnert/Desktop/computational-workflows-2025/notebooks/day_04/files_dir/SRR3_1.fq]\n",
      "[fastq3_1.fq, /Users/leoniewehnert/Desktop/computational-workflows-2025/notebooks/day_04/files_dir/fastq3_1.fq]\n",
      "[fastq4_1.fq, /Users/leoniewehnert/Desktop/computational-workflows-2025/notebooks/day_04/files_dir/fastq4_1.fq]\n",
      "[SRR4_1.fq, /Users/leoniewehnert/Desktop/computational-workflows-2025/notebooks/day_04/files_dir/SRR4_1.fq]\n",
      "[SRR5_1.fq, /Users/leoniewehnert/Desktop/computational-workflows-2025/notebooks/day_04/files_dir/SRR5_1.fq]\n",
      "[fastq5_1.fq, /Users/leoniewehnert/Desktop/computational-workflows-2025/notebooks/day_04/files_dir/fastq5_1.fq]\n"
     ]
    }
   ],
   "source": [
    "# Task 7 - Use fromPath to include all fastq files in the \"files_dir\" directory, then use map to return a pair containing the file name and the file path (Hint: include groovy code)\n",
    "!nextflow run basic_channel_operations.nf --step 7"
   ]
  },
  {
   "cell_type": "code",
   "execution_count": 44,
   "metadata": {},
   "outputs": [
    {
     "name": "stdout",
     "output_type": "stream",
     "text": [
      "\n",
      "\u001b[1m\u001b[38;5;232m\u001b[48;5;43m N E X T F L O W \u001b[0;2m  ~  \u001b[mversion 25.04.7\u001b[m\n",
      "\u001b[K\n",
      "Launching\u001b[35m `basic_channel_operations.nf` \u001b[0;2m[\u001b[0;1;36mprickly_maxwell\u001b[0;2m] DSL2 - \u001b[36mrevision: \u001b[0;36madb94bdcb9\u001b[m\n",
      "\u001b[K\n",
      "[1, 4]\n",
      "[2, 5]\n",
      "[3, 6]\n"
     ]
    }
   ],
   "source": [
    "# Task 8 - Combine the items from the two channels into a single channel\n",
    "!nextflow run basic_channel_operations.nf --step 8"
   ]
  },
  {
   "cell_type": "code",
   "execution_count": 45,
   "metadata": {},
   "outputs": [
    {
     "name": "stdout",
     "output_type": "stream",
     "text": [
      "\n",
      "\u001b[1m\u001b[38;5;232m\u001b[48;5;43m N E X T F L O W \u001b[0;2m  ~  \u001b[mversion 25.04.7\u001b[m\n",
      "\u001b[K\n",
      "Launching\u001b[35m `basic_channel_operations.nf` \u001b[0;2m[\u001b[0;1;36mmighty_sanger\u001b[0;2m] DSL2 - \u001b[36mrevision: \u001b[0;36mf65ab239b5\u001b[m\n",
      "\u001b[K\n",
      "1\n",
      "2\n",
      "3\n",
      "4\n",
      "5\n",
      "6\n"
     ]
    }
   ],
   "source": [
    "# Task 9 - Flatten the list in the channel\n",
    "!nextflow run basic_channel_operations.nf --step 9"
   ]
  },
  {
   "cell_type": "code",
   "execution_count": null,
   "metadata": {},
   "outputs": [
    {
     "name": "stdout",
     "output_type": "stream",
     "text": [
      "\n",
      "\u001b[1m\u001b[38;5;232m\u001b[48;5;43m N E X T F L O W \u001b[0;2m  ~  \u001b[mversion 25.04.7\u001b[m\n",
      "\u001b[K\n",
      "Launching\u001b[35m `basic_channel_operations.nf` \u001b[0;2m[\u001b[0;1;36mshrivelled_pike\u001b[0;2m] DSL2 - \u001b[36mrevision: \u001b[0;36m8760cec7f6\u001b[m\n",
      "\u001b[K\n",
      "[1, 2, 3]\n"
     ]
    }
   ],
   "source": [
    "# Task 10 - Collect the items of a channel into a list. What kind of channel is the output channel?\n",
    "!nextflow run basic_channel_operations.nf --step 10\n",
    "# returns: dataflow value"
   ]
  },
  {
   "cell_type": "markdown",
   "metadata": {},
   "source": [
    "What kind of channel is the output channel?"
   ]
  },
  {
   "cell_type": "code",
   "execution_count": 53,
   "metadata": {},
   "outputs": [
    {
     "name": "stdout",
     "output_type": "stream",
     "text": [
      "\n",
      "\u001b[1m\u001b[38;5;232m\u001b[48;5;43m N E X T F L O W \u001b[0;2m  ~  \u001b[mversion 25.04.7\u001b[m\n",
      "\u001b[K\n",
      "Launching\u001b[35m `basic_channel_operations.nf` \u001b[0;2m[\u001b[0;1;36mgoofy_sanger\u001b[0;2m] DSL2 - \u001b[36mrevision: \u001b[0;36mb9300d31f1\u001b[m\n",
      "\u001b[K\n",
      "[1, [V, f, B]]\n",
      "[3, [M, G, 33]]\n",
      "[2, [O, L, E]]\n"
     ]
    }
   ],
   "source": [
    "# Task 11 -  From the input channel, create lists where each first item in the list of lists is the first item in the output channel, followed by a list of all the items its paired with\n",
    "!nextflow run basic_channel_operations.nf --step 11"
   ]
  },
  {
   "cell_type": "code",
   "execution_count": null,
   "metadata": {},
   "outputs": [
    {
     "name": "stdout",
     "output_type": "stream",
     "text": [
      "\n",
      "\u001b[1m\u001b[38;5;232m\u001b[48;5;43m N E X T F L O W \u001b[0;2m  ~  \u001b[mversion 25.04.7\u001b[m\n",
      "\u001b[K\n",
      "Launching\u001b[35m `basic_channel_operations.nf` \u001b[0;2m[\u001b[0;1;36msoggy_khorana\u001b[0;2m] DSL2 - \u001b[36mrevision: \u001b[0;36m73682e5e5f\u001b[m\n",
      "\u001b[K\n",
      "[1, V, f]\n",
      "[3, M, G]\n",
      "[2, O, L]\n"
     ]
    }
   ],
   "source": [
    "# Task 12 - Create a channel that joins the input to the output channel. What do you notice?\n",
    "!nextflow run basic_channel_operations.nf --step 12\n",
    "# there are values missing"
   ]
  },
  {
   "cell_type": "markdown",
   "metadata": {},
   "source": [
    "Task 12 - What do you notice compared to Task 11?"
   ]
  },
  {
   "cell_type": "code",
   "execution_count": 72,
   "metadata": {},
   "outputs": [
    {
     "name": "stdout",
     "output_type": "stream",
     "text": [
      "\n",
      "\u001b[1m\u001b[38;5;232m\u001b[48;5;43m N E X T F L O W \u001b[0;2m  ~  \u001b[mversion 25.04.7\u001b[m\n",
      "\u001b[K\n",
      "Launching\u001b[35m `basic_channel_operations.nf` \u001b[0;2m[\u001b[0;1;36mtender_payne\u001b[0;2m] DSL2 - \u001b[36mrevision: \u001b[0;36m10c91bbe2e\u001b[m\n",
      "\u001b[K\n",
      "[2, 4, 6, 8, 10]\n",
      "[1, 3, 5, 7, 9]\n",
      "Even numbers: [2, 4, 6, 8, 10]\n",
      "Even numbers: [1, 3, 5, 7, 9]\n"
     ]
    }
   ],
   "source": [
    "# Task 13 - Split the input channel into two channels, one of all the even numbers and the other of all the odd numbers.\n",
    "#           Write them to stdout including information about which is which\n",
    "!nextflow run basic_channel_operations.nf --step 13 -dump-channels"
   ]
  },
  {
   "cell_type": "code",
   "execution_count": 77,
   "metadata": {},
   "outputs": [
    {
     "name": "stdout",
     "output_type": "stream",
     "text": [
      "\n",
      "\u001b[1m\u001b[38;5;232m\u001b[48;5;43m N E X T F L O W \u001b[0;2m  ~  \u001b[mversion 25.04.7\u001b[m\n",
      "\u001b[K\n",
      "Launching\u001b[35m `basic_channel_operations.nf` \u001b[0;2m[\u001b[0;1;36mmodest_chandrasekhar\u001b[0;2m] DSL2 - \u001b[36mrevision: \u001b[0;36m90b28f743d\u001b[m\n",
      "\u001b[K\n",
      "Snape\n",
      "Albus\n",
      "Ron\n",
      "Hagrid\n",
      "Dobby\n",
      "Hermione\n",
      "Harry\n"
     ]
    }
   ],
   "source": [
    "# Task 14 - Nextflow has the concept of maps. Write the names in the maps in this channel to a file called \"names.txt\". Each name should be on a new line. \n",
    "#           Store the file in the \"results\" directory under the name \"names.txt\"\n",
    "\n",
    "!nextflow run basic_channel_operations.nf --step 14\n",
    "\n",
    "!cat results/names.txt\n"
   ]
  },
  {
   "cell_type": "markdown",
   "metadata": {},
   "source": [
    "## Now that we learned about Channels and Operators to deal with them, let's focus on Processes that make use of these channels."
   ]
  },
  {
   "cell_type": "markdown",
   "metadata": {},
   "source": [
    "Please answer the questions in $\\texttt{basics\\_processes.nf}$ and run the code here. "
   ]
  },
  {
   "cell_type": "code",
   "execution_count": 16,
   "metadata": {},
   "outputs": [
    {
     "name": "stdout",
     "output_type": "stream",
     "text": [
      "\n",
      "\u001b[1m\u001b[38;5;232m\u001b[48;5;43m N E X T F L O W \u001b[0;2m  ~  \u001b[mversion 25.04.7\u001b[m\n",
      "\u001b[K\n",
      "Launching\u001b[35m `basics_processes.nf` \u001b[0;2m[\u001b[0;1;36mcurious_gates\u001b[0;2m] DSL2 - \u001b[36mrevision: \u001b[0;36m16ac1d0e94\u001b[m\n",
      "\u001b[K\n",
      "\u001b[2m[\u001b[0;34m-        \u001b[0;2m] \u001b[0;2m\u001b[mSAYHELLO -\u001b[K\n",
      "\u001b[2A\n",
      "\u001b[2mexecutor >  local (1)\u001b[m\u001b[K\n",
      "\u001b[2m[\u001b[0;34m65/022902\u001b[0;2m] \u001b[0;2m\u001b[mSAYHELLO\u001b[2m |\u001b[m 1 of 1\u001b[32m ✔\u001b[m\u001b[K\n",
      "Hello world!\u001b[K\n",
      "\u001b[K\n",
      "\n"
     ]
    }
   ],
   "source": [
    "# Task 1 - create a process that says Hello World! (add debug true to the process right after initializing to be sable to print the output to the console)\n",
    "!nextflow run basics_processes.nf --step 1"
   ]
  },
  {
   "cell_type": "code",
   "execution_count": 11,
   "metadata": {},
   "outputs": [
    {
     "name": "stdout",
     "output_type": "stream",
     "text": [
      "\n",
      "\u001b[1m\u001b[38;5;232m\u001b[48;5;43m N E X T F L O W \u001b[0;2m  ~  \u001b[mversion 25.04.7\u001b[m\n",
      "\u001b[K\n",
      "Launching\u001b[35m `basics_processes.nf` \u001b[0;2m[\u001b[0;1;36mastonishing_varahamihira\u001b[0;2m] DSL2 - \u001b[36mrevision: \u001b[0;36mad3df6edf3\u001b[m\n",
      "\u001b[K\n",
      "\u001b[2mexecutor >  local (1)\u001b[m\u001b[K\n",
      "\u001b[2m[\u001b[0;34mdd/6a2608\u001b[0;2m] \u001b[0;2m\u001b[mSAYHELLO_PYTHON\u001b[2m |\u001b[m 1 of 1\u001b[32m ✔\u001b[m\u001b[K\n",
      "Hello World!\u001b[K\n",
      "\u001b[K\n",
      "\u001b[5A\n",
      "\u001b[2mexecutor >  local (1)\u001b[m\u001b[K\n",
      "\u001b[2m[\u001b[0;34mdd/6a2608\u001b[0;2m] \u001b[0;2m\u001b[mSAYHELLO_PYTHON\u001b[2m |\u001b[m 1 of 1\u001b[32m ✔\u001b[m\u001b[K\n",
      "Hello World!\u001b[K\n",
      "\u001b[K\n",
      "\n"
     ]
    }
   ],
   "source": [
    "# Task 2 - create a process that says Hello World! using Python\n",
    "!nextflow run basics_processes.nf --step 2"
   ]
  },
  {
   "cell_type": "code",
   "execution_count": 27,
   "metadata": {},
   "outputs": [
    {
     "name": "stdout",
     "output_type": "stream",
     "text": [
      "\n",
      "\u001b[1m\u001b[38;5;232m\u001b[48;5;43m N E X T F L O W \u001b[0;2m  ~  \u001b[mversion 25.04.7\u001b[m\n",
      "\u001b[K\n",
      "Launching\u001b[35m `basics_processes.nf` \u001b[0;2m[\u001b[0;1;36melegant_shannon\u001b[0;2m] DSL2 - \u001b[36mrevision: \u001b[0;36m01f9faf163\u001b[m\n",
      "\u001b[K\n",
      "\u001b[2mexecutor >  local (1)\u001b[m\u001b[K\n",
      "\u001b[2m[\u001b[0;34m9f/318814\u001b[0;2m] \u001b[0;2m\u001b[mSAYHELLO_PARAM\u001b[33;2m (\u001b[0;33m1\u001b[2m)\u001b[m\u001b[2m |\u001b[m 1 of 1\u001b[32m ✔\u001b[m\u001b[K\n",
      "Hello world!\u001b[K\n",
      "\u001b[K\n",
      "\u001b[5A\n",
      "\u001b[2mexecutor >  local (1)\u001b[m\u001b[K\n",
      "\u001b[2m[\u001b[0;34m9f/318814\u001b[0;2m] \u001b[0;2m\u001b[mSAYHELLO_PARAM\u001b[33;2m (\u001b[0;33m1\u001b[2m)\u001b[m\u001b[2m |\u001b[m 1 of 1\u001b[32m ✔\u001b[m\u001b[K\n",
      "Hello world!\u001b[K\n",
      "\u001b[K\n",
      "\n"
     ]
    }
   ],
   "source": [
    "# Task 3 - create a process that reads in the string \"Hello world!\" from a channel and write it to command line\n",
    "!nextflow run basics_processes.nf --step 3"
   ]
  },
  {
   "cell_type": "code",
   "execution_count": 2,
   "metadata": {},
   "outputs": [
    {
     "name": "stdout",
     "output_type": "stream",
     "text": [
      "\n",
      "\u001b[1m\u001b[38;5;232m\u001b[48;5;43m N E X T F L O W \u001b[0;2m  ~  \u001b[mversion 25.04.7\u001b[m\n",
      "\u001b[K\n",
      "Launching\u001b[35m `basics_processes.nf` \u001b[0;2m[\u001b[0;1;36msmall_khorana\u001b[0;2m] DSL2 - \u001b[36mrevision: \u001b[0;36m91342a6363\u001b[m\n",
      "\u001b[K\n",
      "\u001b[2mexecutor >  local (1)\u001b[m\u001b[K\n",
      "\u001b[2m[\u001b[0;34m99/d3b118\u001b[0;2m] \u001b[0;2m\u001b[mSAYHELLO_FILE\u001b[33;2m (\u001b[0;33m1\u001b[2m)\u001b[m\u001b[2m |\u001b[m 1 of 1\u001b[32m ✔\u001b[m\u001b[K\n",
      "\u001b[3A\n",
      "\u001b[2mexecutor >  local (1)\u001b[m\u001b[K\n",
      "\u001b[2m[\u001b[0;34m99/d3b118\u001b[0;2m] \u001b[0;2m\u001b[mSAYHELLO_FILE\u001b[33;2m (\u001b[0;33m1\u001b[2m)\u001b[m\u001b[2m |\u001b[m 1 of 1\u001b[32m ✔\u001b[m\u001b[K\n",
      "\n"
     ]
    }
   ],
   "source": [
    "# Task 4 - create a process that reads in the string \"Hello world!\" from a channel and write it to a file. \n",
    "!nextflow run basics_processes.nf --step 4"
   ]
  },
  {
   "cell_type": "markdown",
   "metadata": {},
   "source": [
    "It might be that you created the file but it doesnt appear in the directory. Use the work folder and the output on the command line to find the file."
   ]
  },
  {
   "cell_type": "code",
   "execution_count": 3,
   "metadata": {},
   "outputs": [
    {
     "name": "stdout",
     "output_type": "stream",
     "text": [
      "\n",
      "\u001b[1m\u001b[38;5;232m\u001b[48;5;43m N E X T F L O W \u001b[0;2m  ~  \u001b[mversion 25.04.7\u001b[m\n",
      "\u001b[K\n",
      "Launching\u001b[35m `basics_processes.nf` \u001b[0;2m[\u001b[0;1;36mdreamy_noether\u001b[0;2m] DSL2 - \u001b[36mrevision: \u001b[0;36m91342a6363\u001b[m\n",
      "\u001b[K\n",
      "\u001b[2mexecutor >  local (1)\u001b[m\u001b[K\n",
      "\u001b[2m[\u001b[0;34m22/768715\u001b[0;2m] \u001b[0;2m\u001b[mUPPERCASE\u001b[33;2m (\u001b[0;33m1\u001b[2m)\u001b[m\u001b[2m |\u001b[m 1 of 1\u001b[32m ✔\u001b[m\u001b[K\n",
      "/Users/leoniewehnert/Desktop/computational-workflows-2025/notebooks/day_04/work/22/768715514b9d15aff9275b38ec965f/uppercase_text.txt\u001b[K\n",
      "\u001b[4A\n",
      "\u001b[2mexecutor >  local (1)\u001b[m\u001b[K\n",
      "\u001b[2m[\u001b[0;34m22/768715\u001b[0;2m] \u001b[0;2m\u001b[mUPPERCASE\u001b[33;2m (\u001b[0;33m1\u001b[2m)\u001b[m\u001b[2m |\u001b[m 1 of 1\u001b[32m ✔\u001b[m\u001b[K\n",
      "/Users/leoniewehnert/Desktop/computational-workflows-2025/notebooks/day_04/work/22/768715514b9d15aff9275b38ec965f/uppercase_text.txt\u001b[K\n",
      "\n"
     ]
    }
   ],
   "source": [
    "# Task 5 - create a process that reads in a string and converts it to uppercase and saves it to a file as output. View the path to the file in the console\n",
    "!nextflow run basics_processes.nf --step 5"
   ]
  },
  {
   "cell_type": "code",
   "execution_count": 5,
   "metadata": {},
   "outputs": [
    {
     "name": "stdout",
     "output_type": "stream",
     "text": [
      "\n",
      "\u001b[1m\u001b[38;5;232m\u001b[48;5;43m N E X T F L O W \u001b[0;2m  ~  \u001b[mversion 25.04.7\u001b[m\n",
      "\u001b[K\n",
      "Launching\u001b[35m `basics_processes.nf` \u001b[0;2m[\u001b[0;1;36msuspicious_leakey\u001b[0;2m] DSL2 - \u001b[36mrevision: \u001b[0;36m251b35ff5a\u001b[m\n",
      "\u001b[K\n",
      "\u001b[2mexecutor >  local (2)\u001b[m\u001b[K\n",
      "\u001b[2m[\u001b[0;34mab/f803a6\u001b[0;2m] \u001b[0;2m\u001b[mUPPERCASE\u001b[33;2m (\u001b[0;33m1\u001b[2m)\u001b[m \u001b[2m |\u001b[m 1 of 1\u001b[32m ✔\u001b[m\u001b[K\n",
      "\u001b[2m[\u001b[0;34m2c/c5543f\u001b[0;2m] \u001b[0;2m\u001b[mPRINTUPPER\u001b[33;2m (\u001b[0;33m1\u001b[2m)\u001b[m\u001b[2m |\u001b[m 1 of 1\u001b[32m ✔\u001b[m\u001b[K\n",
      "HELLO WORLD!\u001b[K\n",
      "\u001b[K\n",
      "\u001b[6A\n",
      "\u001b[2mexecutor >  local (2)\u001b[m\u001b[K\n",
      "\u001b[2m[\u001b[0;34mab/f803a6\u001b[0;2m] \u001b[0;2m\u001b[mUPPERCASE\u001b[33;2m (\u001b[0;33m1\u001b[2m)\u001b[m \u001b[2m |\u001b[m 1 of 1\u001b[32m ✔\u001b[m\u001b[K\n",
      "\u001b[2m[\u001b[0;34m2c/c5543f\u001b[0;2m] \u001b[0;2m\u001b[mPRINTUPPER\u001b[33;2m (\u001b[0;33m1\u001b[2m)\u001b[m\u001b[2m |\u001b[m 1 of 1\u001b[32m ✔\u001b[m\u001b[K\n",
      "HELLO WORLD!\u001b[K\n",
      "\u001b[K\n",
      "\n"
     ]
    }
   ],
   "source": [
    "# Task 6 - add another process that reads in the resulting file from UPPERCASE and print the content to the console (debug true).\n",
    "!nextflow run basics_processes.nf --step 6"
   ]
  },
  {
   "cell_type": "markdown",
   "metadata": {},
   "source": [
    "Comared to all the other runs. What changed in the output here and why?"
   ]
  },
  {
   "cell_type": "code",
   "execution_count": 16,
   "metadata": {},
   "outputs": [
    {
     "name": "stdout",
     "output_type": "stream",
     "text": [
      "\n",
      "\u001b[1m\u001b[38;5;232m\u001b[48;5;43m N E X T F L O W \u001b[0;2m  ~  \u001b[mversion 25.04.7\u001b[m\n",
      "\u001b[K\n",
      "Launching\u001b[35m `basics_processes.nf` \u001b[0;2m[\u001b[0;1;36mnauseous_descartes\u001b[0;2m] DSL2 - \u001b[36mrevision: \u001b[0;36m2d2d4d57d6\u001b[m\n",
      "\u001b[K\n",
      "\u001b[2mexecutor >  local (2)\u001b[m\u001b[K\n",
      "\u001b[2m[\u001b[0;34m2d/34dfec\u001b[0;2m] \u001b[0;2m\u001b[mUPPERCASE\u001b[33;2m (\u001b[0;33m1\u001b[2m)\u001b[m\u001b[2m |\u001b[m 1 of 1\u001b[32m ✔\u001b[m\u001b[K\n",
      "\u001b[2m[\u001b[0;34m0f/440177\u001b[0;2m] \u001b[0;2m\u001b[mZIPFILE\u001b[33;2m (\u001b[0;33m1\u001b[2m)\u001b[m  \u001b[2m |\u001b[m 1 of 1\u001b[32m ✔\u001b[m\u001b[K\n",
      "uppercase_text.txt\u001b[K\n",
      "\u001b[K\n",
      "\u001b[6A\n",
      "\u001b[2mexecutor >  local (2)\u001b[m\u001b[K\n",
      "\u001b[2m[\u001b[0;34m2d/34dfec\u001b[0;2m] \u001b[0;2m\u001b[mUPPERCASE\u001b[33;2m (\u001b[0;33m1\u001b[2m)\u001b[m\u001b[2m |\u001b[m 1 of 1\u001b[32m ✔\u001b[m\u001b[K\n",
      "\u001b[2m[\u001b[0;34m0f/440177\u001b[0;2m] \u001b[0;2m\u001b[mZIPFILE\u001b[33;2m (\u001b[0;33m1\u001b[2m)\u001b[m  \u001b[2m |\u001b[m 1 of 1\u001b[32m ✔\u001b[m\u001b[K\n",
      "uppercase_text.txt\u001b[K\n",
      "\u001b[K\n",
      "\n"
     ]
    }
   ],
   "source": [
    "# Task 7 - based on the paramater \"zip\" (see at the head of the file), create a process that zips the file created in the UPPERCASE process either in \"zip\", \"gzip\" OR \"bzip2\" format.\n",
    "#          Print out the path to the zipped file in the console\n",
    "!nextflow run basics_processes.nf --step 7 --zip bzip2"
   ]
  },
  {
   "cell_type": "code",
   "execution_count": 17,
   "metadata": {},
   "outputs": [
    {
     "name": "stdout",
     "output_type": "stream",
     "text": [
      "\n",
      "\u001b[1m\u001b[38;5;232m\u001b[48;5;43m N E X T F L O W \u001b[0;2m  ~  \u001b[mversion 25.04.7\u001b[m\n",
      "\u001b[K\n",
      "Launching\u001b[35m `basics_processes.nf` \u001b[0;2m[\u001b[0;1;36mchaotic_becquerel\u001b[0;2m] DSL2 - \u001b[36mrevision: \u001b[0;36mad8aab8933\u001b[m\n",
      "\u001b[K\n",
      "\u001b[2mexecutor >  local (1)\u001b[m\u001b[K\n",
      "\u001b[2m[\u001b[0;34m7c/93a7c3\u001b[0;2m] \u001b[0;2m\u001b[mUPPERCASE\u001b[33;2m (\u001b[0;33m1\u001b[2m)\u001b[m\u001b[2m |\u001b[m 0 of 1\u001b[K\n",
      "\u001b[2m[\u001b[0;34m-        \u001b[0;2m] \u001b[0;2m\u001b[mALLZIPFILE    -\u001b[K\n",
      "\u001b[4A\n",
      "\u001b[2mexecutor >  local (2)\u001b[m\u001b[K\n",
      "\u001b[2m[\u001b[0;34m7c/93a7c3\u001b[0;2m] \u001b[0;2m\u001b[mUPPERCASE\u001b[33;2m (\u001b[0;33m1\u001b[2m)\u001b[m \u001b[2m |\u001b[m 1 of 1\u001b[32m ✔\u001b[m\u001b[K\n",
      "\u001b[2m[\u001b[0;34m1b/ed48ca\u001b[0;2m] \u001b[0;2m\u001b[mALLZIPFILE\u001b[33;2m (\u001b[0;33m1\u001b[2m)\u001b[m\u001b[2m |\u001b[m 1 of 1\u001b[32m ✔\u001b[m\u001b[K\n",
      "  adding: uppercase_text.txt (stored 0%)\u001b[K\n",
      "uppercase_text.txt\u001b[K\n",
      "uppercase_text.txt\u001b[K\n",
      "uppercase_text.txt\u001b[K\n",
      "\u001b[K\n",
      "\n"
     ]
    }
   ],
   "source": [
    "# Task 8 - Create a process that zips the file created in the UPPERCASE process in \"zip\", \"gzip\" AND \"bzip2\" format. Print out the paths to the zipped files in the console\n",
    "!nextflow run basics_processes.nf --step 8 --zip"
   ]
  },
  {
   "cell_type": "code",
   "execution_count": 29,
   "metadata": {},
   "outputs": [
    {
     "name": "stdout",
     "output_type": "stream",
     "text": [
      "\n",
      "\u001b[1m\u001b[38;5;232m\u001b[48;5;43m N E X T F L O W \u001b[0;2m  ~  \u001b[mversion 25.04.7\u001b[m\n",
      "\u001b[K\n",
      "Launching\u001b[35m `basics_processes.nf` \u001b[0;2m[\u001b[0;1;36mgigantic_goldberg\u001b[0;2m] DSL2 - \u001b[36mrevision: \u001b[0;36m32e47228ba\u001b[m\n",
      "\u001b[K\n",
      "\u001b[2mexecutor >  local (1)\u001b[m\u001b[K\n",
      "\u001b[2m[\u001b[0;34maa/4a4101\u001b[0;2m] \u001b[0;2m\u001b[mWRITETOFILE\u001b[2m |\u001b[m 1 of 1\u001b[32m ✔\u001b[m\u001b[K\n",
      "\u001b[3A\n",
      "\u001b[2mexecutor >  local (1)\u001b[m\u001b[K\n",
      "\u001b[2m[\u001b[0;34maa/4a4101\u001b[0;2m] \u001b[0;2m\u001b[mWRITETOFILE\u001b[2m |\u001b[m 1 of 1\u001b[32m ✔\u001b[m\u001b[K\n",
      "\n"
     ]
    }
   ],
   "source": [
    " # Task 9 - Create a process that reads in a list of names and titles from a channel and writes them to a file.\n",
    "#           Store the file in the \"results\" directory under the name \"names.tsv\"\n",
    "!nextflow run basics_processes.nf --step 9"
   ]
  },
  {
   "cell_type": "code",
   "execution_count": 30,
   "metadata": {},
   "outputs": [
    {
     "data": {
      "text/html": [
       "<div>\n",
       "<style scoped>\n",
       "    .dataframe tbody tr th:only-of-type {\n",
       "        vertical-align: middle;\n",
       "    }\n",
       "\n",
       "    .dataframe tbody tr th {\n",
       "        vertical-align: top;\n",
       "    }\n",
       "\n",
       "    .dataframe thead th {\n",
       "        text-align: right;\n",
       "    }\n",
       "</style>\n",
       "<table border=\"1\" class=\"dataframe\">\n",
       "  <thead>\n",
       "    <tr style=\"text-align: right;\">\n",
       "      <th></th>\n",
       "      <th>name</th>\n",
       "      <th>title</th>\n",
       "    </tr>\n",
       "  </thead>\n",
       "  <tbody>\n",
       "    <tr>\n",
       "      <th>0</th>\n",
       "      <td>Harry</td>\n",
       "      <td>student</td>\n",
       "    </tr>\n",
       "    <tr>\n",
       "      <th>1</th>\n",
       "      <td>Ron</td>\n",
       "      <td>student</td>\n",
       "    </tr>\n",
       "    <tr>\n",
       "      <th>2</th>\n",
       "      <td>Hermione</td>\n",
       "      <td>student</td>\n",
       "    </tr>\n",
       "    <tr>\n",
       "      <th>3</th>\n",
       "      <td>Albus</td>\n",
       "      <td>headmaster</td>\n",
       "    </tr>\n",
       "    <tr>\n",
       "      <th>4</th>\n",
       "      <td>Snape</td>\n",
       "      <td>teacher</td>\n",
       "    </tr>\n",
       "    <tr>\n",
       "      <th>5</th>\n",
       "      <td>Hagrid</td>\n",
       "      <td>groundkeeper</td>\n",
       "    </tr>\n",
       "    <tr>\n",
       "      <th>6</th>\n",
       "      <td>Dobby</td>\n",
       "      <td>hero</td>\n",
       "    </tr>\n",
       "  </tbody>\n",
       "</table>\n",
       "</div>"
      ],
      "text/plain": [
       "       name         title\n",
       "0     Harry       student\n",
       "1       Ron       student\n",
       "2  Hermione       student\n",
       "3     Albus    headmaster\n",
       "4     Snape       teacher\n",
       "5    Hagrid  groundkeeper\n",
       "6     Dobby          hero"
      ]
     },
     "execution_count": 30,
     "metadata": {},
     "output_type": "execute_result"
    }
   ],
   "source": [
    "import pandas as pd\n",
    "\n",
    "df = pd.read_csv(\"results/names.tsv\", sep=\"\\t\")\n",
    "df"
   ]
  },
  {
   "cell_type": "markdown",
   "metadata": {},
   "source": [
    "## Now, let's try some more advanced Operators"
   ]
  },
  {
   "cell_type": "markdown",
   "metadata": {},
   "source": [
    "Please answer the questions in $\\texttt{advanced\\_channel\\_operations.nf}$ and run the code here. "
   ]
  },
  {
   "cell_type": "markdown",
   "metadata": {},
   "source": [
    "To come closer to actual pipelines, we introduce the concept of \"meta-maps\" which you can imagine as dictionaries that are passed with data via channels containing crucial metadata on the sample. \n",
    "\n",
    "Also, we will come back to samplesheets which you should remember from last week."
   ]
  },
  {
   "cell_type": "code",
   "execution_count": 14,
   "metadata": {},
   "outputs": [
    {
     "name": "stdout",
     "output_type": "stream",
     "text": [
      "\n",
      "\u001b[1m\u001b[38;5;232m\u001b[48;5;43m N E X T F L O W \u001b[0;2m  ~  \u001b[mversion 25.04.7\u001b[m\n",
      "\u001b[K\n",
      "Launching\u001b[35m `advanced_channel_operations.nf` \u001b[0;2m[\u001b[0;1;36mcondescending_caravaggio\u001b[0;2m] DSL2 - \u001b[36mrevision: \u001b[0;36mcd0f911347\u001b[m\n",
      "\u001b[K\n",
      "\u001b[2m[\u001b[0;34m-        \u001b[0;2m] \u001b[0;2m\u001b[mREADSAMPLESHEET -\u001b[K\n",
      "\u001b[2A\n",
      "\u001b[2mexecutor >  local (1)\u001b[m\u001b[K\n",
      "\u001b[2m[\u001b[0;34mff/7d6098\u001b[0;2m] \u001b[0;2m\u001b[mREADSAMPLESHEET\u001b[33;2m (\u001b[0;33m1\u001b[2m)\u001b[m\u001b[2m |\u001b[m 1 of 1\u001b[32m ✔\u001b[m\u001b[K\n",
      "sample,fastq_1,fastq_2,strandedness\u001b[K\n",
      "CONTROL_REP1,fq_1_R1.fastq.gz,fq_1_R2.fastq.gz,auto\u001b[K\n",
      "CONTROL_REP2,fq_2_R1.fastq.gz,fq_2_R2.fastq.gz,forward\u001b[K\n",
      "CONTROL_REP3,fq_3_R1.fastq.gz,fq_3_R2.fastq.gz,reverse\u001b[K\n",
      "CONTROL_REP1,fq_4_R1.fastq.gz,fq_4_R2.fastq.gz,auto\u001b[K\n",
      "\n"
     ]
    }
   ],
   "source": [
    "# Task 1 - Read in the samplesheet.\n",
    "\n",
    "!nextflow run advanced_channel_operations.nf --step 1"
   ]
  },
  {
   "cell_type": "code",
   "execution_count": 15,
   "metadata": {},
   "outputs": [
    {
     "name": "stdout",
     "output_type": "stream",
     "text": [
      "\n",
      "\u001b[1m\u001b[38;5;232m\u001b[48;5;43m N E X T F L O W \u001b[0;2m  ~  \u001b[mversion 25.04.7\u001b[m\n",
      "\u001b[K\n",
      "Launching\u001b[35m `advanced_channel_operations.nf` \u001b[0;2m[\u001b[0;1;36mloquacious_ampere\u001b[0;2m] DSL2 - \u001b[36mrevision: \u001b[0;36mcd0f911347\u001b[m\n",
      "\u001b[K\n",
      "[[sample:CONTROL_REP1, strandedness:auto], [fq_1_R1.fastq.gz, fq_1_R2.fastq.gz]]\n",
      "[[sample:CONTROL_REP2, strandedness:forward], [fq_2_R1.fastq.gz, fq_2_R2.fastq.gz]]\n",
      "[[sample:CONTROL_REP3, strandedness:reverse], [fq_3_R1.fastq.gz, fq_3_R2.fastq.gz]]\n",
      "[[sample:CONTROL_REP1, strandedness:auto], [fq_4_R1.fastq.gz, fq_4_R2.fastq.gz]]\n"
     ]
    }
   ],
   "source": [
    "# Task 2 - Read in the samplesheet and create a meta-map with all metadata and another list with the filenames ([[metadata_1 : metadata_1, ...], [fastq_1, fastq_2]]).\n",
    "#          Set the output to a new channel \"in_ch\" and view the channel. YOU WILL NEED TO COPY AND PASTE THIS CODE INTO SOME OF THE FOLLOWING TASKS (sorry for that).\n",
    "\n",
    "!nextflow run advanced_channel_operations.nf --step 2"
   ]
  },
  {
   "cell_type": "code",
   "execution_count": 11,
   "metadata": {},
   "outputs": [
    {
     "name": "stdout",
     "output_type": "stream",
     "text": [
      "\u001b[33mNextflow 25.04.8 is available - Please consider updating your version to it\u001b[m\n",
      "\n",
      "\u001b[1m\u001b[38;5;232m\u001b[48;5;43m N E X T F L O W \u001b[0;2m  ~  \u001b[mversion 25.04.7\u001b[m\n",
      "\u001b[K\n",
      "Launching\u001b[35m `advanced_channel_operations.nf` \u001b[0;2m[\u001b[0;1;36mpedantic_miescher\u001b[0;2m] DSL2 - \u001b[36mrevision: \u001b[0;36m76c8c2c518\u001b[m\n",
      "\u001b[K\n",
      "reverse: [[sample:CONTROL_REP3, strandedness:reverse], [fq_3_R1.fastq.gz, fq_3_R2.fastq.gz]]\n",
      "forward: [[sample:CONTROL_REP2, strandedness:forward], [fq_2_R1.fastq.gz, fq_2_R2.fastq.gz]]\n",
      "auto: [[sample:CONTROL_REP1, strandedness:auto], [fq_1_R1.fastq.gz, fq_1_R2.fastq.gz], [sample:CONTROL_REP1, strandedness:auto], [fq_4_R1.fastq.gz, fq_4_R2.fastq.gz]]\n"
     ]
    }
   ],
   "source": [
    "# Task 3 - Now we assume that we want to handle different \"strandedness\" values differently. \n",
    "#          Split the channel into the right amount of channels and write them all to stdout so that we can understand which is which.\n",
    "\n",
    "!nextflow run advanced_channel_operations.nf --step 3 -dump-channels"
   ]
  },
  {
   "cell_type": "code",
   "execution_count": 15,
   "metadata": {},
   "outputs": [
    {
     "name": "stdout",
     "output_type": "stream",
     "text": [
      "\u001b[33mNextflow 25.04.8 is available - Please consider updating your version to it\u001b[m\n",
      "\n",
      "\u001b[1m\u001b[38;5;232m\u001b[48;5;43m N E X T F L O W \u001b[0;2m  ~  \u001b[mversion 25.04.7\u001b[m\n",
      "\u001b[K\n",
      "Launching\u001b[35m `advanced_channel_operations.nf` \u001b[0;2m[\u001b[0;1;36mpeaceful_legentil\u001b[0;2m] DSL2 - \u001b[36mrevision: \u001b[0;36m7b7babaf3c\u001b[m\n",
      "\u001b[K\n",
      "[[sample:CONTROL_REP1, strandedness:auto], [[fq_1_R1.fastq.gz, fq_1_R2.fastq.gz], [fq_4_R1.fastq.gz, fq_4_R2.fastq.gz]]]\n",
      "[[sample:CONTROL_REP2, strandedness:forward], [[fq_2_R1.fastq.gz, fq_2_R2.fastq.gz]]]\n",
      "[[sample:CONTROL_REP3, strandedness:reverse], [[fq_3_R1.fastq.gz, fq_3_R2.fastq.gz]]]\n"
     ]
    }
   ],
   "source": [
    "# Task 4 - Group together all files with the same sample-id and strandedness value.\n",
    "\n",
    "!nextflow run advanced_channel_operations.nf --step 4"
   ]
  },
  {
   "cell_type": "markdown",
   "metadata": {},
   "source": [
    "## It's finally time to link processes and channels with each other"
   ]
  },
  {
   "cell_type": "markdown",
   "metadata": {},
   "source": [
    "Please go to the file $\\texttt{link\\_p\\_c.nf}$"
   ]
  },
  {
   "cell_type": "code",
   "execution_count": 136,
   "metadata": {},
   "outputs": [
    {
     "name": "stdout",
     "output_type": "stream",
     "text": [
      "\u001b[33mNextflow 25.04.8 is available - Please consider updating your version to it\u001b[m\n",
      "\n",
      "\u001b[1m\u001b[38;5;232m\u001b[48;5;43m N E X T F L O W \u001b[0;2m  ~  \u001b[mversion 25.04.7\u001b[m\n",
      "\u001b[K\n",
      "Launching\u001b[35m `link_p_c.nf` \u001b[0;2m[\u001b[0;1;36mnauseous_mirzakhani\u001b[0;2m] DSL2 - \u001b[36mrevision: \u001b[0;36m3794f112af\u001b[m\n",
      "\u001b[K\n",
      "\u001b[2m[\u001b[0;34m-        \u001b[0;2m] \u001b[0;2m\u001b[mSPLITLETTERS   -\u001b[K\n",
      "\u001b[2m[\u001b[0;34m-        \u001b[0;2m] \u001b[0;2m\u001b[mCONVERTTOUPPER -\u001b[K\n",
      "\u001b[33mWARN: Access to undefined parameter `step` -- Initialise it to a default value eg. `params.step = some_value`\u001b[39m\u001b[K\n",
      "\u001b[4A\n",
      "\u001b[2mexecutor >  local (13)\u001b[m\u001b[K\n",
      "\u001b[2m[\u001b[0;34mcc/87c1a9\u001b[0;2m] \u001b[0;2m\u001b[mSPLITLETTERS\u001b[33;2m (\u001b[0;33m1\u001b[2m)\u001b[m  \u001b[2m |\u001b[m 2 of 2\u001b[32m ✔\u001b[m\u001b[K\n",
      "\u001b[2m[\u001b[0;34mfd/fad171\u001b[0;2m] \u001b[0;2m\u001b[mCONVERTTOUPPER\u001b[33;2m (\u001b[0;33m6\u001b[2m)\u001b[m\u001b[2m |\u001b[m 6 of 11\u001b[K\n",
      "\u001b[33mWARN: Access to undefined parameter `step` -- Initialise it to a default value eg. `params.step = some_value`\u001b[39m\u001b[K\n",
      "\u001b[5A\n",
      "\u001b[2mexecutor >  local (13)\u001b[m\u001b[K\n",
      "\u001b[2m[\u001b[0;34mcc/87c1a9\u001b[0;2m] \u001b[0;2m\u001b[mSPLITLETTERS\u001b[33;2m (\u001b[0;33m1\u001b[2m)\u001b[m   \u001b[2m |\u001b[m 2 of 2\u001b[32m ✔\u001b[m\u001b[K\n",
      "\u001b[2m[\u001b[0;34m38/a727f3\u001b[0;2m] \u001b[0;2m\u001b[mCONVERTTOUPPER\u001b[33;2m (\u001b[0;33m11\u001b[2m)\u001b[m\u001b[2m |\u001b[m 11 of 11\u001b[32m ✔\u001b[m\u001b[K\n",
      "\u001b[33mWARN: Access to undefined parameter `step` -- Initialise it to a default value eg. `params.step = some_value`\u001b[39m\u001b[K\n",
      "\n"
     ]
    }
   ],
   "source": [
    "!nextflow run link_p_c.nf "
   ]
  },
  {
   "cell_type": "markdown",
   "metadata": {},
   "source": [
    "### Give a list with the paths to the chunk files"
   ]
  },
  {
   "cell_type": "code",
   "execution_count": 138,
   "metadata": {},
   "outputs": [
    {
     "name": "stdout",
     "output_type": "stream",
     "text": [
      "\u001b[33mNextflow 25.04.8 is available - Please consider updating your version to it\u001b[m\n",
      "\n",
      "\u001b[1m\u001b[38;5;232m\u001b[48;5;43m N E X T F L O W \u001b[0;2m  ~  \u001b[mversion 25.04.7\u001b[m\n",
      "\u001b[K\n",
      "Launching\u001b[35m `link_p_c.nf` \u001b[0;2m[\u001b[0;1;36mloving_plateau\u001b[0;2m] DSL2 - \u001b[36mrevision: \u001b[0;36me18b864953\u001b[m\n",
      "\u001b[K\n",
      "\u001b[2mexecutor >  local (6)\u001b[m\u001b[K\n",
      "\u001b[2m[\u001b[0;34mec/20cc3d\u001b[0;2m] \u001b[0;2m\u001b[mSPLITLETTERS\u001b[33;2m (\u001b[0;33m1\u001b[2m)\u001b[m  \u001b[2m |\u001b[m 2 of 2\u001b[32m ✔\u001b[m\u001b[K\n",
      "\u001b[2m[\u001b[0;34m83/d23aef\u001b[0;2m] \u001b[0;2m\u001b[mCONVERTTOUPPER\u001b[33;2m (\u001b[0;33m4\u001b[2m)\u001b[m\u001b[2m |\u001b[m 0 of 11\u001b[K\n",
      "[/Users/leoniewehnert/Desktop/computational-workflows-2025/notebooks/day_04/work/ec/20cc3dbab39143214c715f07f2814c/h_w_chunk1.txt, /Users/leoniewehnert/Desktop/computational-workflows-2025/notebooks/day_04/work/ec/20cc3dbab39143214c715f07f2814c/h_w_chunk2.txt, /Users/leoniewehnert/Desktop/computational-workflows-2025/notebooks/day_04/work/ec/20cc3dbab39143214c715f07f2814c/h_w_chunk3.txt, /Users/leoniewehnert/Desktop/computational-workflows-2025/notebooks/day_04/work/cc/a49f7381c60e7df6ab2503aad43b37/c_w_chunk1.txt, /Users/leoniewehnert/Desktop/computational-workflows-2025/notebooks/day_04/work/cc/a49f7381c60e7df6ab2503aad43b37/c_w_chunk2.txt, /Users/leoniewehnert/Desktop/computational-workflows-2025/notebooks/day_04/work/cc/a49f7381c60e7df6ab2503aad43b37/c_w_chunk3.txt, /Users/leoniewehnert/Desktop/computational-workflows-2025/notebooks/day_04/work/cc/a49f7381c60e7df6ab2503aad43b37/c_w_chunk4.txt, /Users/leoniewehnert/Desktop/computational-workflows-2025/notebooks/day_04/work/cc/a49f7381c60e7df6ab2503aad43b37/c_w_chunk5.txt, /Users/leoniewehnert/Desktop/computational-workflows-2025/notebooks/day_04/work/cc/a49f7381c60e7df6ab2503aad43b37/c_w_chunk6.txt, /Users/leoniewehnert/Desktop/computational-workflows-2025/notebooks/day_04/work/cc/a49f7381c60e7df6ab2503aad43b37/c_w_chunk7.txt, /Users/leoniewehnert/Desktop/computational-workflows-2025/notebooks/day_04/work/cc/a49f7381c60e7df6ab2503aad43b37/c_w_chunk8.txt]\u001b[K\n",
      "\u001b[5A\n",
      "\u001b[2mexecutor >  local (13)\u001b[m\u001b[K\n",
      "\u001b[2m[\u001b[0;34mec/20cc3d\u001b[0;2m] \u001b[0;2m\u001b[mSPLITLETTERS\u001b[33;2m (\u001b[0;33m1\u001b[2m)\u001b[m   \u001b[2m |\u001b[m 2 of 2\u001b[32m ✔\u001b[m\u001b[K\n",
      "\u001b[2m[\u001b[0;34mcb/a02d03\u001b[0;2m] \u001b[0;2m\u001b[mCONVERTTOUPPER\u001b[33;2m (\u001b[0;33m11\u001b[2m)\u001b[m\u001b[2m |\u001b[m 11 of 11\u001b[32m ✔\u001b[m\u001b[K\n",
      "[/Users/leoniewehnert/Desktop/computational-workflows-2025/notebooks/day_04/work/ec/20cc3dbab39143214c715f07f2814c/h_w_chunk1.txt, /Users/leoniewehnert/Desktop/computational-workflows-2025/notebooks/day_04/work/ec/20cc3dbab39143214c715f07f2814c/h_w_chunk2.txt, /Users/leoniewehnert/Desktop/computational-workflows-2025/notebooks/day_04/work/ec/20cc3dbab39143214c715f07f2814c/h_w_chunk3.txt, /Users/leoniewehnert/Desktop/computational-workflows-2025/notebooks/day_04/work/cc/a49f7381c60e7df6ab2503aad43b37/c_w_chunk1.txt, /Users/leoniewehnert/Desktop/computational-workflows-2025/notebooks/day_04/work/cc/a49f7381c60e7df6ab2503aad43b37/c_w_chunk2.txt, /Users/leoniewehnert/Desktop/computational-workflows-2025/notebooks/day_04/work/cc/a49f7381c60e7df6ab2503aad43b37/c_w_chunk3.txt, /Users/leoniewehnert/Desktop/computational-workflows-2025/notebooks/day_04/work/cc/a49f7381c60e7df6ab2503aad43b37/c_w_chunk4.txt, /Users/leoniewehnert/Desktop/computational-workflows-2025/notebooks/day_04/work/cc/a49f7381c60e7df6ab2503aad43b37/c_w_chunk5.txt, /Users/leoniewehnert/Desktop/computational-workflows-2025/notebooks/day_04/work/cc/a49f7381c60e7df6ab2503aad43b37/c_w_chunk6.txt, /Users/leoniewehnert/Desktop/computational-workflows-2025/notebooks/day_04/work/cc/a49f7381c60e7df6ab2503aad43b37/c_w_chunk7.txt, /Users/leoniewehnert/Desktop/computational-workflows-2025/notebooks/day_04/work/cc/a49f7381c60e7df6ab2503aad43b37/c_w_chunk8.txt]\u001b[K\n",
      "[/Users/leoniewehnert/Desktop/computational-workflows-2025/notebooks/day_04/work/ff/16f021851d995d9806188e1892e839/c_w_chunk2_upper.txt, /Users/leoniewehnert/Desktop/computational-workflows-2025/notebooks/day_04/work/7e/9da9ff43eee0318588460b017fc4fe/h_w_chunk1_upper.txt, /Users/leoniewehnert/Desktop/computational-workflows-2025/notebooks/day_04/work/83/d23aef1956fd865aa525b50784d0a6/c_w_chunk1_upper.txt, /Users/leoniewehnert/Desktop/computational-workflows-2025/notebooks/day_04/work/54/2cfa3a964a43b4edfad0b2c8a98bce/h_w_chunk2_upper.txt, /Users/leoniewehnert/Desktop/computational-workflows-2025/notebooks/day_04/work/e4/9ed80894767668dee6a48e121792ae/c_w_chunk5_upper.txt, /Users/leoniewehnert/Desktop/computational-workflows-2025/notebooks/day_04/work/f2/a7729bbc3a3c82a45c6ce705be8973/h_w_chunk3_upper.txt, /Users/leoniewehnert/Desktop/computational-workflows-2025/notebooks/day_04/work/7f/a65173b17bdd37ce95d189abc10f36/c_w_chunk4_upper.txt, /Users/leoniewehnert/Desktop/computational-workflows-2025/notebooks/day_04/work/71/a8ffc6019d15a18b78c3a2cb23a4e2/c_w_chunk3_upper.txt, /Users/leoniewehnert/Desktop/computational-workflows-2025/notebooks/day_04/work/d5/7756cef91ccb3197f92286d56c8515/c_w_chunk6_upper.txt, /Users/leoniewehnert/Desktop/computational-workflows-2025/notebooks/day_04/work/cb/a02d0307670879ffff865f04b9ee8d/c_w_chunk8_upper.txt, /Users/leoniewehnert/Desktop/computational-workflows-2025/notebooks/day_04/work/fe/d6f93c4ddf841783ec2076042c427e/c_w_chunk7_upper.txt]\u001b[K\n",
      "\n"
     ]
    }
   ],
   "source": [
    "!nextflow run link_p_c.nf --step 1"
   ]
  },
  {
   "cell_type": "markdown",
   "metadata": {},
   "source": [
    "### Why was CONVERTTOUPPER run so often?\n",
    "A process runs once for each item emitted by its input channel. The files channel now emits each chunk file as a separate item (after flattening) this is the reason why the process runs 11 times."
   ]
  }
 ],
 "metadata": {
  "kernelspec": {
   "display_name": "Nextflow_Prak",
   "language": "python",
   "name": "myenv"
  },
  "language_info": {
   "codemirror_mode": {
    "name": "ipython",
    "version": 3
   },
   "file_extension": ".py",
   "mimetype": "text/x-python",
   "name": "python",
   "nbconvert_exporter": "python",
   "pygments_lexer": "ipython3",
   "version": "3.11.13"
  }
 },
 "nbformat": 4,
 "nbformat_minor": 2
}
